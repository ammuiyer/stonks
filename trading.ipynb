{
 "cells": [
  {
   "cell_type": "code",
   "execution_count": 7,
   "metadata": {},
   "outputs": [
    {
     "name": "stdout",
     "output_type": "stream",
     "text": [
      "Defaulting to user installation because normal site-packages is not writeable\n",
      "Requirement already satisfied: alpaca-trade-api in /Users/meenakshiiyer/Library/Python/3.9/lib/python/site-packages (3.2.0)\n",
      "Requirement already satisfied: pandas>=0.18.1 in /Users/meenakshiiyer/Library/Python/3.9/lib/python/site-packages (from alpaca-trade-api) (2.1.3)\n",
      "Requirement already satisfied: numpy>=1.11.1 in /Users/meenakshiiyer/Library/Python/3.9/lib/python/site-packages (from alpaca-trade-api) (1.22.4)\n",
      "Requirement already satisfied: requests<3,>2 in /Users/meenakshiiyer/Library/Python/3.9/lib/python/site-packages (from alpaca-trade-api) (2.31.0)\n",
      "Requirement already satisfied: urllib3<2,>1.24 in /Users/meenakshiiyer/Library/Python/3.9/lib/python/site-packages (from alpaca-trade-api) (1.26.6)\n",
      "Requirement already satisfied: websocket-client<2,>=0.56.0 in /Users/meenakshiiyer/Library/Python/3.9/lib/python/site-packages (from alpaca-trade-api) (1.6.4)\n",
      "Requirement already satisfied: websockets<11,>=9.0 in /Users/meenakshiiyer/Library/Python/3.9/lib/python/site-packages (from alpaca-trade-api) (10.4)\n",
      "Requirement already satisfied: msgpack==1.0.3 in /Users/meenakshiiyer/Library/Python/3.9/lib/python/site-packages (from alpaca-trade-api) (1.0.3)\n",
      "Requirement already satisfied: aiohttp<4,>=3.8.3 in /Users/meenakshiiyer/Library/Python/3.9/lib/python/site-packages (from alpaca-trade-api) (3.10.5)\n",
      "Requirement already satisfied: PyYAML==6.0.1 in /Users/meenakshiiyer/Library/Python/3.9/lib/python/site-packages (from alpaca-trade-api) (6.0.1)\n",
      "Requirement already satisfied: deprecation==2.1.0 in /Users/meenakshiiyer/Library/Python/3.9/lib/python/site-packages (from alpaca-trade-api) (2.1.0)\n",
      "Requirement already satisfied: packaging in /Users/meenakshiiyer/Library/Python/3.9/lib/python/site-packages (from deprecation==2.1.0->alpaca-trade-api) (23.2)\n",
      "Requirement already satisfied: aiohappyeyeballs>=2.3.0 in /Users/meenakshiiyer/Library/Python/3.9/lib/python/site-packages (from aiohttp<4,>=3.8.3->alpaca-trade-api) (2.4.0)\n",
      "Requirement already satisfied: aiosignal>=1.1.2 in /Users/meenakshiiyer/Library/Python/3.9/lib/python/site-packages (from aiohttp<4,>=3.8.3->alpaca-trade-api) (1.3.1)\n",
      "Requirement already satisfied: attrs>=17.3.0 in /Users/meenakshiiyer/Library/Python/3.9/lib/python/site-packages (from aiohttp<4,>=3.8.3->alpaca-trade-api) (23.1.0)\n",
      "Requirement already satisfied: frozenlist>=1.1.1 in /Users/meenakshiiyer/Library/Python/3.9/lib/python/site-packages (from aiohttp<4,>=3.8.3->alpaca-trade-api) (1.4.1)\n",
      "Requirement already satisfied: multidict<7.0,>=4.5 in /Users/meenakshiiyer/Library/Python/3.9/lib/python/site-packages (from aiohttp<4,>=3.8.3->alpaca-trade-api) (6.0.5)\n",
      "Requirement already satisfied: yarl<2.0,>=1.0 in /Users/meenakshiiyer/Library/Python/3.9/lib/python/site-packages (from aiohttp<4,>=3.8.3->alpaca-trade-api) (1.9.4)\n",
      "Requirement already satisfied: async-timeout<5.0,>=4.0 in /Users/meenakshiiyer/Library/Python/3.9/lib/python/site-packages (from aiohttp<4,>=3.8.3->alpaca-trade-api) (4.0.3)\n",
      "Requirement already satisfied: python-dateutil>=2.8.2 in /Users/meenakshiiyer/Library/Python/3.9/lib/python/site-packages (from pandas>=0.18.1->alpaca-trade-api) (2.8.2)\n",
      "Requirement already satisfied: pytz>=2020.1 in /Users/meenakshiiyer/Library/Python/3.9/lib/python/site-packages (from pandas>=0.18.1->alpaca-trade-api) (2021.1)\n",
      "Requirement already satisfied: tzdata>=2022.1 in /Users/meenakshiiyer/Library/Python/3.9/lib/python/site-packages (from pandas>=0.18.1->alpaca-trade-api) (2023.3)\n",
      "Requirement already satisfied: charset-normalizer<4,>=2 in /Users/meenakshiiyer/Library/Python/3.9/lib/python/site-packages (from requests<3,>2->alpaca-trade-api) (3.3.2)\n",
      "Requirement already satisfied: idna<4,>=2.5 in /Users/meenakshiiyer/Library/Python/3.9/lib/python/site-packages (from requests<3,>2->alpaca-trade-api) (2.10)\n",
      "Requirement already satisfied: certifi>=2017.4.17 in /Users/meenakshiiyer/Library/Python/3.9/lib/python/site-packages (from requests<3,>2->alpaca-trade-api) (2021.5.30)\n",
      "Requirement already satisfied: six>=1.5 in /Users/meenakshiiyer/Library/Python/3.9/lib/python/site-packages (from python-dateutil>=2.8.2->pandas>=0.18.1->alpaca-trade-api) (1.16.0)\n",
      "\u001b[33mDEPRECATION: celery 5.1.2 has a non-standard dependency specifier pytz>dev. pip 24.1 will enforce this behaviour change. A possible replacement is to upgrade to a newer version of celery or contact the author to suggest that they release a version with a conforming dependency specifiers. Discussion can be found at https://github.com/pypa/pip/issues/12063\u001b[0m\u001b[33m\n",
      "\u001b[0m\n",
      "\u001b[1m[\u001b[0m\u001b[34;49mnotice\u001b[0m\u001b[1;39;49m]\u001b[0m\u001b[39;49m A new release of pip is available: \u001b[0m\u001b[31;49m24.0\u001b[0m\u001b[39;49m -> \u001b[0m\u001b[32;49m24.2\u001b[0m\n",
      "\u001b[1m[\u001b[0m\u001b[34;49mnotice\u001b[0m\u001b[1;39;49m]\u001b[0m\u001b[39;49m To update, run: \u001b[0m\u001b[32;49m/Library/Developer/CommandLineTools/usr/bin/python3 -m pip install --upgrade pip\u001b[0m\n",
      "Note: you may need to restart the kernel to use updated packages.\n",
      "Defaulting to user installation because normal site-packages is not writeable\n",
      "Requirement already satisfied: alpaca-py in /Users/meenakshiiyer/Library/Python/3.9/lib/python/site-packages (0.30.0)\n",
      "Requirement already satisfied: msgpack<2.0.0,>=1.0.3 in /Users/meenakshiiyer/Library/Python/3.9/lib/python/site-packages (from alpaca-py) (1.0.3)\n",
      "Requirement already satisfied: pandas>=1.5.3 in /Users/meenakshiiyer/Library/Python/3.9/lib/python/site-packages (from alpaca-py) (2.1.3)\n",
      "Requirement already satisfied: pydantic<3.0.0,>=2.0.3 in /Users/meenakshiiyer/Library/Python/3.9/lib/python/site-packages (from alpaca-py) (2.8.2)\n",
      "Requirement already satisfied: requests<3.0.0,>=2.30.0 in /Users/meenakshiiyer/Library/Python/3.9/lib/python/site-packages (from alpaca-py) (2.31.0)\n",
      "Requirement already satisfied: sseclient-py<2.0.0,>=1.7.2 in /Users/meenakshiiyer/Library/Python/3.9/lib/python/site-packages (from alpaca-py) (1.8.0)\n",
      "Requirement already satisfied: websockets>=10.4 in /Users/meenakshiiyer/Library/Python/3.9/lib/python/site-packages (from alpaca-py) (10.4)\n",
      "Requirement already satisfied: numpy<2,>=1.22.4 in /Users/meenakshiiyer/Library/Python/3.9/lib/python/site-packages (from pandas>=1.5.3->alpaca-py) (1.22.4)\n",
      "Requirement already satisfied: python-dateutil>=2.8.2 in /Users/meenakshiiyer/Library/Python/3.9/lib/python/site-packages (from pandas>=1.5.3->alpaca-py) (2.8.2)\n",
      "Requirement already satisfied: pytz>=2020.1 in /Users/meenakshiiyer/Library/Python/3.9/lib/python/site-packages (from pandas>=1.5.3->alpaca-py) (2021.1)\n",
      "Requirement already satisfied: tzdata>=2022.1 in /Users/meenakshiiyer/Library/Python/3.9/lib/python/site-packages (from pandas>=1.5.3->alpaca-py) (2023.3)\n",
      "Requirement already satisfied: annotated-types>=0.4.0 in /Users/meenakshiiyer/Library/Python/3.9/lib/python/site-packages (from pydantic<3.0.0,>=2.0.3->alpaca-py) (0.7.0)\n",
      "Requirement already satisfied: pydantic-core==2.20.1 in /Users/meenakshiiyer/Library/Python/3.9/lib/python/site-packages (from pydantic<3.0.0,>=2.0.3->alpaca-py) (2.20.1)\n",
      "Requirement already satisfied: typing-extensions>=4.6.1 in /Users/meenakshiiyer/Library/Python/3.9/lib/python/site-packages (from pydantic<3.0.0,>=2.0.3->alpaca-py) (4.9.0)\n",
      "Requirement already satisfied: charset-normalizer<4,>=2 in /Users/meenakshiiyer/Library/Python/3.9/lib/python/site-packages (from requests<3.0.0,>=2.30.0->alpaca-py) (3.3.2)\n",
      "Requirement already satisfied: idna<4,>=2.5 in /Users/meenakshiiyer/Library/Python/3.9/lib/python/site-packages (from requests<3.0.0,>=2.30.0->alpaca-py) (2.10)\n",
      "Requirement already satisfied: urllib3<3,>=1.21.1 in /Users/meenakshiiyer/Library/Python/3.9/lib/python/site-packages (from requests<3.0.0,>=2.30.0->alpaca-py) (1.26.6)\n",
      "Requirement already satisfied: certifi>=2017.4.17 in /Users/meenakshiiyer/Library/Python/3.9/lib/python/site-packages (from requests<3.0.0,>=2.30.0->alpaca-py) (2021.5.30)\n",
      "Requirement already satisfied: six>=1.5 in /Users/meenakshiiyer/Library/Python/3.9/lib/python/site-packages (from python-dateutil>=2.8.2->pandas>=1.5.3->alpaca-py) (1.16.0)\n",
      "\u001b[33mDEPRECATION: celery 5.1.2 has a non-standard dependency specifier pytz>dev. pip 24.1 will enforce this behaviour change. A possible replacement is to upgrade to a newer version of celery or contact the author to suggest that they release a version with a conforming dependency specifiers. Discussion can be found at https://github.com/pypa/pip/issues/12063\u001b[0m\u001b[33m\n",
      "\u001b[0m\n",
      "\u001b[1m[\u001b[0m\u001b[34;49mnotice\u001b[0m\u001b[1;39;49m]\u001b[0m\u001b[39;49m A new release of pip is available: \u001b[0m\u001b[31;49m24.0\u001b[0m\u001b[39;49m -> \u001b[0m\u001b[32;49m24.2\u001b[0m\n",
      "\u001b[1m[\u001b[0m\u001b[34;49mnotice\u001b[0m\u001b[1;39;49m]\u001b[0m\u001b[39;49m To update, run: \u001b[0m\u001b[32;49m/Library/Developer/CommandLineTools/usr/bin/python3 -m pip install --upgrade pip\u001b[0m\n",
      "Note: you may need to restart the kernel to use updated packages.\n"
     ]
    }
   ],
   "source": [
    "%pip install alpaca-trade-api\n",
    "%pip install alpaca-py"
   ]
  },
  {
   "cell_type": "code",
   "execution_count": 8,
   "metadata": {},
   "outputs": [],
   "source": [
    "from alpaca.data.historical import CryptoHistoricalDataClient\n",
    "from alpaca_trade_api.rest import REST, TimeFrame\n",
    "import pandas as pd\n",
    "\n",
    "# No keys required for crypto data\n",
    "client = CryptoHistoricalDataClient()"
   ]
  },
  {
   "cell_type": "code",
   "execution_count": 28,
   "metadata": {},
   "outputs": [
    {
     "name": "stdout",
     "output_type": "stream",
     "text": [
      "                               close       high        low  trade_count  \\\n",
      "timestamp                                                                 \n",
      "2024-08-22 05:00:00+00:00  2625.6950  2625.6950  2625.6950            0   \n",
      "2024-08-22 05:04:00+00:00  2622.8665  2622.8665  2622.8665            0   \n",
      "2024-08-22 05:05:00+00:00  2621.7800  2621.7800  2621.7800            0   \n",
      "2024-08-22 05:06:00+00:00  2622.5860  2622.5860  2622.5860            0   \n",
      "2024-08-22 05:08:00+00:00  2621.6140  2621.6140  2621.0410            0   \n",
      "...                              ...        ...        ...          ...   \n",
      "2024-08-23 00:14:00+00:00  2625.4500  2625.4500  2625.4500            0   \n",
      "2024-08-23 00:16:00+00:00  2627.2470  2627.2470  2627.2470            0   \n",
      "2024-08-23 00:17:00+00:00  2625.5450  2625.5450  2625.5450            0   \n",
      "2024-08-23 00:19:00+00:00  2623.8280  2623.8280  2623.8280            0   \n",
      "2024-08-23 00:20:00+00:00  2627.4500  2627.4500  2627.4500            0   \n",
      "\n",
      "                                open  volume  vwap   symbol  \n",
      "timestamp                                                    \n",
      "2024-08-22 05:00:00+00:00  2625.6950     0.0   0.0  ETH/USD  \n",
      "2024-08-22 05:04:00+00:00  2622.8665     0.0   0.0  ETH/USD  \n",
      "2024-08-22 05:05:00+00:00  2621.7800     0.0   0.0  ETH/USD  \n",
      "2024-08-22 05:06:00+00:00  2622.5860     0.0   0.0  ETH/USD  \n",
      "2024-08-22 05:08:00+00:00  2621.0410     0.0   0.0  ETH/USD  \n",
      "...                              ...     ...   ...      ...  \n",
      "2024-08-23 00:14:00+00:00  2625.4500     0.0   0.0  ETH/USD  \n",
      "2024-08-23 00:16:00+00:00  2627.2470     0.0   0.0  ETH/USD  \n",
      "2024-08-23 00:17:00+00:00  2625.5450     0.0   0.0  ETH/USD  \n",
      "2024-08-23 00:19:00+00:00  2623.8280     0.0   0.0  ETH/USD  \n",
      "2024-08-23 00:20:00+00:00  2627.4500     0.0   0.0  ETH/USD  \n",
      "\n",
      "[518 rows x 8 columns]\n"
     ]
    }
   ],
   "source": [
    "import os\n",
    "from dotenv import load_dotenv\n",
    "load_dotenv()\n",
    "BASE_URL = os.getenv(\"BASE_URL\")\n",
    "KEY_ID = os.getenv(\"KEY_ID\")\n",
    "SECRET_KEY = os.getenv(\"SECRET_KEY\")\n",
    "# Instantiate REST API Connection\n",
    "api = REST(key_id=KEY_ID,secret_key=SECRET_KEY,base_url=\"https://paper-api.alpaca.markets\")\n",
    "\n",
    "# Fetch 1Minute historical bars of Ether\n",
    "bars = api.get_crypto_bars(\"ETH/USD\", TimeFrame.Minute).df\n",
    "# bars = bars[bars.exchange == 'CBSE']\n",
    "print(bars)\n"
   ]
  },
  {
   "cell_type": "code",
   "execution_count": 18,
   "metadata": {},
   "outputs": [],
   "source": [
    "# Create a market order to buy 1 Eth\n",
    "order_buy = api.submit_order('ETH/USD', qty=1, side='buy', time_in_force = \"gtc\")\n",
    "#gtc is the only valid one for for crypto, why"
   ]
  },
  {
   "cell_type": "code",
   "execution_count": 25,
   "metadata": {},
   "outputs": [
    {
     "name": "stderr",
     "output_type": "stream",
     "text": [
      "/var/folders/sn/wcs7_4d549z9dj_nct3c3y5m0000gn/T/ipykernel_59314/2013956955.py:41: FutureWarning: Series.__getitem__ treating keys as positions is deprecated. In a future version, integer keys will always be treated as labels (consistent with DataFrame behavior). To access a value by position, use `ser.iloc[pos]`\n",
      "  print(f\"Fast {fast[-1]}  /  Slow: {slow[-1]}\")\n",
      "/var/folders/sn/wcs7_4d549z9dj_nct3c3y5m0000gn/T/ipykernel_59314/2013956955.py:42: FutureWarning: Series.__getitem__ treating keys as positions is deprecated. In a future version, integer keys will always be treated as labels (consistent with DataFrame behavior). To access a value by position, use `ser.iloc[pos]`\n",
      "  return fast[-1] > slow[-1]\n"
     ]
    },
    {
     "name": "stdout",
     "output_type": "stream",
     "text": [
      "Fast 2624.99075  /  Slow: 2624.0972291666667\n",
      "Position: 0 / Should Buy: True\n",
      "Symbol: ETH/USD / Side: BUY / Quantity: 1\n",
      "Sleep for 5\n",
      "********************\n"
     ]
    },
    {
     "name": "stderr",
     "output_type": "stream",
     "text": [
      "/var/folders/sn/wcs7_4d549z9dj_nct3c3y5m0000gn/T/ipykernel_59314/2013956955.py:41: FutureWarning: Series.__getitem__ treating keys as positions is deprecated. In a future version, integer keys will always be treated as labels (consistent with DataFrame behavior). To access a value by position, use `ser.iloc[pos]`\n",
      "  print(f\"Fast {fast[-1]}  /  Slow: {slow[-1]}\")\n",
      "/var/folders/sn/wcs7_4d549z9dj_nct3c3y5m0000gn/T/ipykernel_59314/2013956955.py:42: FutureWarning: Series.__getitem__ treating keys as positions is deprecated. In a future version, integer keys will always be treated as labels (consistent with DataFrame behavior). To access a value by position, use `ser.iloc[pos]`\n",
      "  return fast[-1] > slow[-1]\n"
     ]
    },
    {
     "name": "stdout",
     "output_type": "stream",
     "text": [
      "Fast 2624.99075  /  Slow: 2624.0972291666667\n",
      "Position: 0 / Should Buy: True\n",
      "Symbol: ETH/USD / Side: BUY / Quantity: 1\n",
      "Sleep for 59\n",
      "********************\n"
     ]
    },
    {
     "name": "stderr",
     "output_type": "stream",
     "text": [
      "/var/folders/sn/wcs7_4d549z9dj_nct3c3y5m0000gn/T/ipykernel_59314/2013956955.py:41: FutureWarning: Series.__getitem__ treating keys as positions is deprecated. In a future version, integer keys will always be treated as labels (consistent with DataFrame behavior). To access a value by position, use `ser.iloc[pos]`\n",
      "  print(f\"Fast {fast[-1]}  /  Slow: {slow[-1]}\")\n",
      "/var/folders/sn/wcs7_4d549z9dj_nct3c3y5m0000gn/T/ipykernel_59314/2013956955.py:42: FutureWarning: Series.__getitem__ treating keys as positions is deprecated. In a future version, integer keys will always be treated as labels (consistent with DataFrame behavior). To access a value by position, use `ser.iloc[pos]`\n",
      "  return fast[-1] > slow[-1]\n"
     ]
    },
    {
     "name": "stdout",
     "output_type": "stream",
     "text": [
      "Fast 2625.0329583333337  /  Slow: 2624.2381875\n",
      "Position: 0 / Should Buy: True\n",
      "Symbol: ETH/USD / Side: BUY / Quantity: 1\n",
      "Sleep for 0\n",
      "********************\n"
     ]
    },
    {
     "name": "stderr",
     "output_type": "stream",
     "text": [
      "/var/folders/sn/wcs7_4d549z9dj_nct3c3y5m0000gn/T/ipykernel_59314/2013956955.py:41: FutureWarning: Series.__getitem__ treating keys as positions is deprecated. In a future version, integer keys will always be treated as labels (consistent with DataFrame behavior). To access a value by position, use `ser.iloc[pos]`\n",
      "  print(f\"Fast {fast[-1]}  /  Slow: {slow[-1]}\")\n",
      "/var/folders/sn/wcs7_4d549z9dj_nct3c3y5m0000gn/T/ipykernel_59314/2013956955.py:42: FutureWarning: Series.__getitem__ treating keys as positions is deprecated. In a future version, integer keys will always be treated as labels (consistent with DataFrame behavior). To access a value by position, use `ser.iloc[pos]`\n",
      "  return fast[-1] > slow[-1]\n"
     ]
    },
    {
     "name": "stdout",
     "output_type": "stream",
     "text": [
      "Fast 2625.0329583333337  /  Slow: 2624.2381875\n",
      "Position: 0 / Should Buy: True\n",
      "Symbol: ETH/USD / Side: BUY / Quantity: 1\n",
      "Sleep for 59\n"
     ]
    },
    {
     "ename": "KeyboardInterrupt",
     "evalue": "",
     "output_type": "error",
     "traceback": [
      "\u001b[0;31m---------------------------------------------------------------------------\u001b[0m",
      "\u001b[0;31mKeyboardInterrupt\u001b[0m                         Traceback (most recent call last)",
      "Cell \u001b[0;32mIn[25], line 67\u001b[0m\n\u001b[1;32m     64\u001b[0m     api\u001b[38;5;241m.\u001b[39msubmit_order(SYMBOL, qty\u001b[38;5;241m=\u001b[39mQTY_PER_TRADE, side\u001b[38;5;241m=\u001b[39m\u001b[38;5;124m'\u001b[39m\u001b[38;5;124msell\u001b[39m\u001b[38;5;124m'\u001b[39m)\n\u001b[1;32m     65\u001b[0m     \u001b[38;5;28mprint\u001b[39m(\u001b[38;5;124mf\u001b[39m\u001b[38;5;124m'\u001b[39m\u001b[38;5;124mSymbol: \u001b[39m\u001b[38;5;132;01m{\u001b[39;00mSYMBOL\u001b[38;5;132;01m}\u001b[39;00m\u001b[38;5;124m / Side: SELL / Quantity: \u001b[39m\u001b[38;5;132;01m{\u001b[39;00mQTY_PER_TRADE\u001b[38;5;132;01m}\u001b[39;00m\u001b[38;5;124m'\u001b[39m)\n\u001b[0;32m---> 67\u001b[0m \u001b[43mtime\u001b[49m\u001b[38;5;241;43m.\u001b[39;49m\u001b[43msleep\u001b[49m\u001b[43m(\u001b[49m\u001b[43mget_pause\u001b[49m\u001b[43m(\u001b[49m\u001b[43m)\u001b[49m\u001b[43m)\u001b[49m\n\u001b[1;32m     68\u001b[0m \u001b[38;5;28mprint\u001b[39m(\u001b[38;5;124m\"\u001b[39m\u001b[38;5;124m*\u001b[39m\u001b[38;5;124m\"\u001b[39m\u001b[38;5;241m*\u001b[39m\u001b[38;5;241m20\u001b[39m)\n",
      "\u001b[0;31mKeyboardInterrupt\u001b[0m: "
     ]
    }
   ],
   "source": [
    "from datetime import datetime, timedelta\n",
    "import math\n",
    "import time\n",
    "\n",
    "def get_position(symbol):\n",
    "    positions = api.list_positions()\n",
    "    for p in positions:\n",
    "        if p.symbol == symbol:\n",
    "            return float(p.qty)\n",
    "    return 0\n",
    "\n",
    "SYMBOL = 'ETH/USD'\n",
    "SMA_FAST = 12\n",
    "SMA_SLOW = 24\n",
    "QTY_PER_TRADE = 1\n",
    "\n",
    "\n",
    "\n",
    "def get_pause():\n",
    "    now = datetime.now()\n",
    "    next_min = now.replace(second=0, microsecond=0) + timedelta(minutes=1)\n",
    "    pause = math.ceil((next_min - now).seconds)\n",
    "    print(f\"Sleep for {pause}\")\n",
    "    return pause\n",
    "\n",
    "\n",
    "def get_position(symbol):\n",
    "    positions = api.list_positions()\n",
    "    for p in positions:\n",
    "        if p.symbol == symbol:\n",
    "            return float(p.qty)\n",
    "    return 0\n",
    "\n",
    "\n",
    "# Returns a series with the moving average\n",
    "def get_sma(series, periods):\n",
    "    return series.rolling(periods).mean()\n",
    "\n",
    "# Checks wether we should buy (fast ma > slow ma)\n",
    "def get_signal(fast, slow):\n",
    "    print(f\"Fast {fast[-1]}  /  Slow: {slow[-1]}\")\n",
    "    return fast[-1] > slow[-1]\n",
    "\n",
    "# Get up-to-date 1 minute data from Alpaca and add the moving averages\n",
    "def get_bars(symbol):\n",
    "    bars = api.get_crypto_bars(symbol, TimeFrame.Minute).df\n",
    "    bars[f'sma_fast'] = get_sma(bars.close, SMA_FAST)\n",
    "    bars[f'sma_slow'] = get_sma(bars.close, SMA_SLOW)\n",
    "    return bars\n",
    "\n",
    "while True:\n",
    "    # GET DATA\n",
    "    bars = get_bars(symbol=SYMBOL)\n",
    "    # CHECK POSITIONS\n",
    "    position = get_position(symbol=SYMBOL)\n",
    "    should_buy = get_signal(bars.sma_fast,bars.sma_slow)\n",
    "    print(f\"Position: {position} / Should Buy: {should_buy}\")\n",
    "    if position == 0 and should_buy == True:\n",
    "        # WE BUY ONE BITCOIN\n",
    "        api.submit_order(SYMBOL, qty=QTY_PER_TRADE, side='buy', time_in_force=\"gtc\")\n",
    "        print(f'Symbol: {SYMBOL} / Side: BUY / Quantity: {QTY_PEsR_TRADE}')\n",
    "    elif position > 0 and should_buy == False:\n",
    "        # WE SELL ONE BITCOIN\n",
    "        api.submit_order(SYMBOL, qty=QTY_PER_TRADE, side='sell')\n",
    "        print(f'Symbol: {SYMBOL} / Side: SELL / Quantity: {QTY_PER_TRADE}')\n",
    "\n",
    "    time.sleep(get_pause())\n",
    "    print(\"*\"*20)"
   ]
  }
 ],
 "metadata": {
  "kernelspec": {
   "display_name": "Python 3",
   "language": "python",
   "name": "python3"
  },
  "language_info": {
   "codemirror_mode": {
    "name": "ipython",
    "version": 3
   },
   "file_extension": ".py",
   "mimetype": "text/x-python",
   "name": "python",
   "nbconvert_exporter": "python",
   "pygments_lexer": "ipython3",
   "version": "3.9.6"
  }
 },
 "nbformat": 4,
 "nbformat_minor": 2
}
