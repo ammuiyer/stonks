{
 "cells": [
  {
   "cell_type": "code",
   "execution_count": 30,
   "metadata": {},
   "outputs": [
    {
     "name": "stdout",
     "output_type": "stream",
     "text": [
      "Defaulting to user installation because normal site-packages is not writeable\n",
      "Requirement already satisfied: alpaca-trade-api in /Users/meenakshiiyer/Library/Python/3.9/lib/python/site-packages (3.2.0)\n",
      "Requirement already satisfied: pandas>=0.18.1 in /Users/meenakshiiyer/Library/Python/3.9/lib/python/site-packages (from alpaca-trade-api) (2.1.3)\n",
      "Requirement already satisfied: numpy>=1.11.1 in /Users/meenakshiiyer/Library/Python/3.9/lib/python/site-packages (from alpaca-trade-api) (1.22.4)\n",
      "Requirement already satisfied: requests<3,>2 in /Users/meenakshiiyer/Library/Python/3.9/lib/python/site-packages (from alpaca-trade-api) (2.31.0)\n",
      "Requirement already satisfied: urllib3<2,>1.24 in /Users/meenakshiiyer/Library/Python/3.9/lib/python/site-packages (from alpaca-trade-api) (1.26.6)\n",
      "Requirement already satisfied: websocket-client<2,>=0.56.0 in /Users/meenakshiiyer/Library/Python/3.9/lib/python/site-packages (from alpaca-trade-api) (1.6.4)\n",
      "Requirement already satisfied: websockets<11,>=9.0 in /Users/meenakshiiyer/Library/Python/3.9/lib/python/site-packages (from alpaca-trade-api) (10.4)\n",
      "Requirement already satisfied: msgpack==1.0.3 in /Users/meenakshiiyer/Library/Python/3.9/lib/python/site-packages (from alpaca-trade-api) (1.0.3)\n",
      "Requirement already satisfied: aiohttp<4,>=3.8.3 in /Users/meenakshiiyer/Library/Python/3.9/lib/python/site-packages (from alpaca-trade-api) (3.10.5)\n",
      "Requirement already satisfied: PyYAML==6.0.1 in /Users/meenakshiiyer/Library/Python/3.9/lib/python/site-packages (from alpaca-trade-api) (6.0.1)\n",
      "Requirement already satisfied: deprecation==2.1.0 in /Users/meenakshiiyer/Library/Python/3.9/lib/python/site-packages (from alpaca-trade-api) (2.1.0)\n",
      "Requirement already satisfied: packaging in /Users/meenakshiiyer/Library/Python/3.9/lib/python/site-packages (from deprecation==2.1.0->alpaca-trade-api) (23.2)\n",
      "Requirement already satisfied: aiohappyeyeballs>=2.3.0 in /Users/meenakshiiyer/Library/Python/3.9/lib/python/site-packages (from aiohttp<4,>=3.8.3->alpaca-trade-api) (2.4.0)\n",
      "Requirement already satisfied: aiosignal>=1.1.2 in /Users/meenakshiiyer/Library/Python/3.9/lib/python/site-packages (from aiohttp<4,>=3.8.3->alpaca-trade-api) (1.3.1)\n",
      "Requirement already satisfied: attrs>=17.3.0 in /Users/meenakshiiyer/Library/Python/3.9/lib/python/site-packages (from aiohttp<4,>=3.8.3->alpaca-trade-api) (23.1.0)\n",
      "Requirement already satisfied: frozenlist>=1.1.1 in /Users/meenakshiiyer/Library/Python/3.9/lib/python/site-packages (from aiohttp<4,>=3.8.3->alpaca-trade-api) (1.4.1)\n",
      "Requirement already satisfied: multidict<7.0,>=4.5 in /Users/meenakshiiyer/Library/Python/3.9/lib/python/site-packages (from aiohttp<4,>=3.8.3->alpaca-trade-api) (6.0.5)\n",
      "Requirement already satisfied: yarl<2.0,>=1.0 in /Users/meenakshiiyer/Library/Python/3.9/lib/python/site-packages (from aiohttp<4,>=3.8.3->alpaca-trade-api) (1.9.4)\n",
      "Requirement already satisfied: async-timeout<5.0,>=4.0 in /Users/meenakshiiyer/Library/Python/3.9/lib/python/site-packages (from aiohttp<4,>=3.8.3->alpaca-trade-api) (4.0.3)\n",
      "Requirement already satisfied: python-dateutil>=2.8.2 in /Users/meenakshiiyer/Library/Python/3.9/lib/python/site-packages (from pandas>=0.18.1->alpaca-trade-api) (2.8.2)\n",
      "Requirement already satisfied: pytz>=2020.1 in /Users/meenakshiiyer/Library/Python/3.9/lib/python/site-packages (from pandas>=0.18.1->alpaca-trade-api) (2021.1)\n",
      "Requirement already satisfied: tzdata>=2022.1 in /Users/meenakshiiyer/Library/Python/3.9/lib/python/site-packages (from pandas>=0.18.1->alpaca-trade-api) (2023.3)\n",
      "Requirement already satisfied: charset-normalizer<4,>=2 in /Users/meenakshiiyer/Library/Python/3.9/lib/python/site-packages (from requests<3,>2->alpaca-trade-api) (3.3.2)\n",
      "Requirement already satisfied: idna<4,>=2.5 in /Users/meenakshiiyer/Library/Python/3.9/lib/python/site-packages (from requests<3,>2->alpaca-trade-api) (2.10)\n",
      "Requirement already satisfied: certifi>=2017.4.17 in /Users/meenakshiiyer/Library/Python/3.9/lib/python/site-packages (from requests<3,>2->alpaca-trade-api) (2021.5.30)\n",
      "Requirement already satisfied: six>=1.5 in /Users/meenakshiiyer/Library/Python/3.9/lib/python/site-packages (from python-dateutil>=2.8.2->pandas>=0.18.1->alpaca-trade-api) (1.16.0)\n",
      "\u001b[33mDEPRECATION: celery 5.1.2 has a non-standard dependency specifier pytz>dev. pip 24.1 will enforce this behaviour change. A possible replacement is to upgrade to a newer version of celery or contact the author to suggest that they release a version with a conforming dependency specifiers. Discussion can be found at https://github.com/pypa/pip/issues/12063\u001b[0m\u001b[33m\n",
      "\u001b[0m\n",
      "\u001b[1m[\u001b[0m\u001b[34;49mnotice\u001b[0m\u001b[1;39;49m]\u001b[0m\u001b[39;49m A new release of pip is available: \u001b[0m\u001b[31;49m24.0\u001b[0m\u001b[39;49m -> \u001b[0m\u001b[32;49m24.2\u001b[0m\n",
      "\u001b[1m[\u001b[0m\u001b[34;49mnotice\u001b[0m\u001b[1;39;49m]\u001b[0m\u001b[39;49m To update, run: \u001b[0m\u001b[32;49m/Library/Developer/CommandLineTools/usr/bin/python3 -m pip install --upgrade pip\u001b[0m\n",
      "Note: you may need to restart the kernel to use updated packages.\n",
      "Defaulting to user installation because normal site-packages is not writeable\n",
      "Requirement already satisfied: alpaca-py in /Users/meenakshiiyer/Library/Python/3.9/lib/python/site-packages (0.30.0)\n",
      "Requirement already satisfied: msgpack<2.0.0,>=1.0.3 in /Users/meenakshiiyer/Library/Python/3.9/lib/python/site-packages (from alpaca-py) (1.0.3)\n",
      "Requirement already satisfied: pandas>=1.5.3 in /Users/meenakshiiyer/Library/Python/3.9/lib/python/site-packages (from alpaca-py) (2.1.3)\n",
      "Requirement already satisfied: pydantic<3.0.0,>=2.0.3 in /Users/meenakshiiyer/Library/Python/3.9/lib/python/site-packages (from alpaca-py) (2.8.2)\n",
      "Requirement already satisfied: requests<3.0.0,>=2.30.0 in /Users/meenakshiiyer/Library/Python/3.9/lib/python/site-packages (from alpaca-py) (2.31.0)\n",
      "Requirement already satisfied: sseclient-py<2.0.0,>=1.7.2 in /Users/meenakshiiyer/Library/Python/3.9/lib/python/site-packages (from alpaca-py) (1.8.0)\n",
      "Requirement already satisfied: websockets>=10.4 in /Users/meenakshiiyer/Library/Python/3.9/lib/python/site-packages (from alpaca-py) (10.4)\n",
      "Requirement already satisfied: numpy<2,>=1.22.4 in /Users/meenakshiiyer/Library/Python/3.9/lib/python/site-packages (from pandas>=1.5.3->alpaca-py) (1.22.4)\n",
      "Requirement already satisfied: python-dateutil>=2.8.2 in /Users/meenakshiiyer/Library/Python/3.9/lib/python/site-packages (from pandas>=1.5.3->alpaca-py) (2.8.2)\n",
      "Requirement already satisfied: pytz>=2020.1 in /Users/meenakshiiyer/Library/Python/3.9/lib/python/site-packages (from pandas>=1.5.3->alpaca-py) (2021.1)\n",
      "Requirement already satisfied: tzdata>=2022.1 in /Users/meenakshiiyer/Library/Python/3.9/lib/python/site-packages (from pandas>=1.5.3->alpaca-py) (2023.3)\n",
      "Requirement already satisfied: annotated-types>=0.4.0 in /Users/meenakshiiyer/Library/Python/3.9/lib/python/site-packages (from pydantic<3.0.0,>=2.0.3->alpaca-py) (0.7.0)\n",
      "Requirement already satisfied: pydantic-core==2.20.1 in /Users/meenakshiiyer/Library/Python/3.9/lib/python/site-packages (from pydantic<3.0.0,>=2.0.3->alpaca-py) (2.20.1)\n",
      "Requirement already satisfied: typing-extensions>=4.6.1 in /Users/meenakshiiyer/Library/Python/3.9/lib/python/site-packages (from pydantic<3.0.0,>=2.0.3->alpaca-py) (4.9.0)\n",
      "Requirement already satisfied: charset-normalizer<4,>=2 in /Users/meenakshiiyer/Library/Python/3.9/lib/python/site-packages (from requests<3.0.0,>=2.30.0->alpaca-py) (3.3.2)\n",
      "Requirement already satisfied: idna<4,>=2.5 in /Users/meenakshiiyer/Library/Python/3.9/lib/python/site-packages (from requests<3.0.0,>=2.30.0->alpaca-py) (2.10)\n",
      "Requirement already satisfied: urllib3<3,>=1.21.1 in /Users/meenakshiiyer/Library/Python/3.9/lib/python/site-packages (from requests<3.0.0,>=2.30.0->alpaca-py) (1.26.6)\n",
      "Requirement already satisfied: certifi>=2017.4.17 in /Users/meenakshiiyer/Library/Python/3.9/lib/python/site-packages (from requests<3.0.0,>=2.30.0->alpaca-py) (2021.5.30)\n",
      "Requirement already satisfied: six>=1.5 in /Users/meenakshiiyer/Library/Python/3.9/lib/python/site-packages (from python-dateutil>=2.8.2->pandas>=1.5.3->alpaca-py) (1.16.0)\n",
      "\u001b[33mDEPRECATION: celery 5.1.2 has a non-standard dependency specifier pytz>dev. pip 24.1 will enforce this behaviour change. A possible replacement is to upgrade to a newer version of celery or contact the author to suggest that they release a version with a conforming dependency specifiers. Discussion can be found at https://github.com/pypa/pip/issues/12063\u001b[0m\u001b[33m\n",
      "\u001b[0m\n",
      "\u001b[1m[\u001b[0m\u001b[34;49mnotice\u001b[0m\u001b[1;39;49m]\u001b[0m\u001b[39;49m A new release of pip is available: \u001b[0m\u001b[31;49m24.0\u001b[0m\u001b[39;49m -> \u001b[0m\u001b[32;49m24.2\u001b[0m\n",
      "\u001b[1m[\u001b[0m\u001b[34;49mnotice\u001b[0m\u001b[1;39;49m]\u001b[0m\u001b[39;49m To update, run: \u001b[0m\u001b[32;49m/Library/Developer/CommandLineTools/usr/bin/python3 -m pip install --upgrade pip\u001b[0m\n",
      "Note: you may need to restart the kernel to use updated packages.\n"
     ]
    }
   ],
   "source": [
    "%pip install alpaca-trade-api\n",
    "%pip install alpaca-py"
   ]
  },
  {
   "cell_type": "code",
   "execution_count": 31,
   "metadata": {},
   "outputs": [],
   "source": [
    "from alpaca.data.historical import CryptoHistoricalDataClient\n",
    "from alpaca_trade_api.rest import REST, TimeFrame\n",
    "import pandas as pd\n",
    "\n",
    "# No keys required for crypto data\n",
    "client = CryptoHistoricalDataClient()"
   ]
  },
  {
   "cell_type": "code",
   "execution_count": 32,
   "metadata": {},
   "outputs": [
    {
     "name": "stdout",
     "output_type": "stream",
     "text": [
      "                               close       high        low  trade_count  \\\n",
      "timestamp                                                                 \n",
      "2024-08-23 05:00:00+00:00  2638.2900  2638.2900  2638.2900            0   \n",
      "2024-08-23 05:01:00+00:00  2641.6795  2641.6795  2641.6795            0   \n",
      "2024-08-23 05:02:00+00:00  2645.9050  2645.9050  2643.6245            0   \n",
      "2024-08-23 05:07:00+00:00  2645.4020  2645.4020  2645.4020            0   \n",
      "2024-08-23 05:09:00+00:00  2645.6925  2645.6925  2645.6925            0   \n",
      "...                              ...        ...        ...          ...   \n",
      "2024-08-23 19:59:00+00:00  2747.5550  2747.5550  2747.5550            0   \n",
      "2024-08-23 20:00:00+00:00  2749.6100  2749.6100  2749.6100            0   \n",
      "2024-08-23 20:01:00+00:00  2748.7600  2748.7600  2748.7600            0   \n",
      "2024-08-23 20:02:00+00:00  2748.1505  2748.7600  2747.6055            0   \n",
      "2024-08-23 20:03:00+00:00  2747.6450  2747.6450  2747.6450            0   \n",
      "\n",
      "                                open  volume  vwap   symbol  \n",
      "timestamp                                                    \n",
      "2024-08-23 05:00:00+00:00  2638.2900     0.0   0.0  ETH/USD  \n",
      "2024-08-23 05:01:00+00:00  2641.6795     0.0   0.0  ETH/USD  \n",
      "2024-08-23 05:02:00+00:00  2643.6245     0.0   0.0  ETH/USD  \n",
      "2024-08-23 05:07:00+00:00  2645.4020     0.0   0.0  ETH/USD  \n",
      "2024-08-23 05:09:00+00:00  2645.6925     0.0   0.0  ETH/USD  \n",
      "...                              ...     ...   ...      ...  \n",
      "2024-08-23 19:59:00+00:00  2747.5550     0.0   0.0  ETH/USD  \n",
      "2024-08-23 20:00:00+00:00  2749.6100     0.0   0.0  ETH/USD  \n",
      "2024-08-23 20:01:00+00:00  2748.7600     0.0   0.0  ETH/USD  \n",
      "2024-08-23 20:02:00+00:00  2747.6055     0.0   0.0  ETH/USD  \n",
      "2024-08-23 20:03:00+00:00  2747.6450     0.0   0.0  ETH/USD  \n",
      "\n",
      "[491 rows x 8 columns]\n"
     ]
    }
   ],
   "source": [
    "import os\n",
    "from dotenv import load_dotenv\n",
    "load_dotenv()\n",
    "BASE_URL = os.getenv(\"BASE_URL\")\n",
    "KEY_ID = os.getenv(\"KEY_ID\")\n",
    "SECRET_KEY = os.getenv(\"SECRET_KEY\")\n",
    "# Instantiate REST API Connection\n",
    "api = REST(key_id=KEY_ID,secret_key=SECRET_KEY,base_url=\"https://paper-api.alpaca.markets\")\n",
    "\n",
    "# Fetch 1Minute historical bars of Ether\n",
    "bars = api.get_crypto_bars(\"ETH/USD\", TimeFrame.Minute).df\n",
    "# bars = bars[bars.exchange == 'CBSE']\n",
    "print(bars)\n"
   ]
  },
  {
   "cell_type": "code",
   "execution_count": 18,
   "metadata": {},
   "outputs": [],
   "source": [
    "# Create a market order to buy 1 Eth\n",
    "order_buy = api.submit_order('ETH/USD', qty=1, side='buy', time_in_force = \"gtc\")\n",
    "#gtc is the only valid one for for crypto, why"
   ]
  },
  {
   "cell_type": "code",
   "execution_count": 34,
   "metadata": {},
   "outputs": [
    {
     "name": "stderr",
     "output_type": "stream",
     "text": [
      "/var/folders/sn/wcs7_4d549z9dj_nct3c3y5m0000gn/T/ipykernel_59314/2013956955.py:41: FutureWarning: Series.__getitem__ treating keys as positions is deprecated. In a future version, integer keys will always be treated as labels (consistent with DataFrame behavior). To access a value by position, use `ser.iloc[pos]`\n",
      "  print(f\"Fast {fast[-1]}  /  Slow: {slow[-1]}\")\n",
      "/var/folders/sn/wcs7_4d549z9dj_nct3c3y5m0000gn/T/ipykernel_59314/2013956955.py:42: FutureWarning: Series.__getitem__ treating keys as positions is deprecated. In a future version, integer keys will always be treated as labels (consistent with DataFrame behavior). To access a value by position, use `ser.iloc[pos]`\n",
      "  return fast[-1] > slow[-1]\n"
     ]
    },
    {
     "name": "stdout",
     "output_type": "stream",
     "text": [
      "Fast 2747.426  /  Slow: 2745.0944375\n",
      "Position: 0 / Should Buy: True\n",
      "Symbol: ETH/USD / Side: BUY / Quantity: 1\n",
      "Sleep for 39\n",
      "********************\n"
     ]
    },
    {
     "name": "stderr",
     "output_type": "stream",
     "text": [
      "/var/folders/sn/wcs7_4d549z9dj_nct3c3y5m0000gn/T/ipykernel_59314/2013956955.py:41: FutureWarning: Series.__getitem__ treating keys as positions is deprecated. In a future version, integer keys will always be treated as labels (consistent with DataFrame behavior). To access a value by position, use `ser.iloc[pos]`\n",
      "  print(f\"Fast {fast[-1]}  /  Slow: {slow[-1]}\")\n",
      "/var/folders/sn/wcs7_4d549z9dj_nct3c3y5m0000gn/T/ipykernel_59314/2013956955.py:42: FutureWarning: Series.__getitem__ treating keys as positions is deprecated. In a future version, integer keys will always be treated as labels (consistent with DataFrame behavior). To access a value by position, use `ser.iloc[pos]`\n",
      "  return fast[-1] > slow[-1]\n"
     ]
    },
    {
     "name": "stdout",
     "output_type": "stream",
     "text": [
      "Fast 2748.115916666667  /  Slow: 2745.3654375\n",
      "Position: 0 / Should Buy: True\n",
      "Symbol: ETH/USD / Side: BUY / Quantity: 1\n",
      "Sleep for 0\n",
      "********************\n"
     ]
    },
    {
     "name": "stderr",
     "output_type": "stream",
     "text": [
      "/var/folders/sn/wcs7_4d549z9dj_nct3c3y5m0000gn/T/ipykernel_59314/2013956955.py:41: FutureWarning: Series.__getitem__ treating keys as positions is deprecated. In a future version, integer keys will always be treated as labels (consistent with DataFrame behavior). To access a value by position, use `ser.iloc[pos]`\n",
      "  print(f\"Fast {fast[-1]}  /  Slow: {slow[-1]}\")\n",
      "/var/folders/sn/wcs7_4d549z9dj_nct3c3y5m0000gn/T/ipykernel_59314/2013956955.py:42: FutureWarning: Series.__getitem__ treating keys as positions is deprecated. In a future version, integer keys will always be treated as labels (consistent with DataFrame behavior). To access a value by position, use `ser.iloc[pos]`\n",
      "  return fast[-1] > slow[-1]\n"
     ]
    },
    {
     "name": "stdout",
     "output_type": "stream",
     "text": [
      "Fast 2748.115916666667  /  Slow: 2745.3654375\n",
      "Position: 0 / Should Buy: True\n",
      "Symbol: ETH/USD / Side: BUY / Quantity: 1\n",
      "Sleep for 59\n",
      "********************\n"
     ]
    },
    {
     "name": "stderr",
     "output_type": "stream",
     "text": [
      "/var/folders/sn/wcs7_4d549z9dj_nct3c3y5m0000gn/T/ipykernel_59314/2013956955.py:41: FutureWarning: Series.__getitem__ treating keys as positions is deprecated. In a future version, integer keys will always be treated as labels (consistent with DataFrame behavior). To access a value by position, use `ser.iloc[pos]`\n",
      "  print(f\"Fast {fast[-1]}  /  Slow: {slow[-1]}\")\n",
      "/var/folders/sn/wcs7_4d549z9dj_nct3c3y5m0000gn/T/ipykernel_59314/2013956955.py:42: FutureWarning: Series.__getitem__ treating keys as positions is deprecated. In a future version, integer keys will always be treated as labels (consistent with DataFrame behavior). To access a value by position, use `ser.iloc[pos]`\n",
      "  return fast[-1] > slow[-1]\n"
     ]
    },
    {
     "name": "stdout",
     "output_type": "stream",
     "text": [
      "Fast 2748.603541666667  /  Slow: 2745.6894374999997\n",
      "Position: 0 / Should Buy: True\n",
      "Symbol: ETH/USD / Side: BUY / Quantity: 1\n",
      "Sleep for 0\n",
      "********************\n"
     ]
    },
    {
     "name": "stderr",
     "output_type": "stream",
     "text": [
      "/var/folders/sn/wcs7_4d549z9dj_nct3c3y5m0000gn/T/ipykernel_59314/2013956955.py:41: FutureWarning: Series.__getitem__ treating keys as positions is deprecated. In a future version, integer keys will always be treated as labels (consistent with DataFrame behavior). To access a value by position, use `ser.iloc[pos]`\n",
      "  print(f\"Fast {fast[-1]}  /  Slow: {slow[-1]}\")\n",
      "/var/folders/sn/wcs7_4d549z9dj_nct3c3y5m0000gn/T/ipykernel_59314/2013956955.py:42: FutureWarning: Series.__getitem__ treating keys as positions is deprecated. In a future version, integer keys will always be treated as labels (consistent with DataFrame behavior). To access a value by position, use `ser.iloc[pos]`\n",
      "  return fast[-1] > slow[-1]\n"
     ]
    },
    {
     "name": "stdout",
     "output_type": "stream",
     "text": [
      "Fast 2748.603541666667  /  Slow: 2745.6894374999997\n",
      "Position: 0 / Should Buy: True\n",
      "Symbol: ETH/USD / Side: BUY / Quantity: 1\n",
      "Sleep for 0\n",
      "********************\n"
     ]
    },
    {
     "name": "stderr",
     "output_type": "stream",
     "text": [
      "/var/folders/sn/wcs7_4d549z9dj_nct3c3y5m0000gn/T/ipykernel_59314/2013956955.py:41: FutureWarning: Series.__getitem__ treating keys as positions is deprecated. In a future version, integer keys will always be treated as labels (consistent with DataFrame behavior). To access a value by position, use `ser.iloc[pos]`\n",
      "  print(f\"Fast {fast[-1]}  /  Slow: {slow[-1]}\")\n",
      "/var/folders/sn/wcs7_4d549z9dj_nct3c3y5m0000gn/T/ipykernel_59314/2013956955.py:42: FutureWarning: Series.__getitem__ treating keys as positions is deprecated. In a future version, integer keys will always be treated as labels (consistent with DataFrame behavior). To access a value by position, use `ser.iloc[pos]`\n",
      "  return fast[-1] > slow[-1]\n"
     ]
    },
    {
     "name": "stdout",
     "output_type": "stream",
     "text": [
      "Fast 2748.603541666667  /  Slow: 2745.6894374999997\n",
      "Position: 0 / Should Buy: True\n",
      "Symbol: ETH/USD / Side: BUY / Quantity: 1\n",
      "Sleep for 59\n",
      "********************\n"
     ]
    },
    {
     "name": "stderr",
     "output_type": "stream",
     "text": [
      "/var/folders/sn/wcs7_4d549z9dj_nct3c3y5m0000gn/T/ipykernel_59314/2013956955.py:41: FutureWarning: Series.__getitem__ treating keys as positions is deprecated. In a future version, integer keys will always be treated as labels (consistent with DataFrame behavior). To access a value by position, use `ser.iloc[pos]`\n",
      "  print(f\"Fast {fast[-1]}  /  Slow: {slow[-1]}\")\n",
      "/var/folders/sn/wcs7_4d549z9dj_nct3c3y5m0000gn/T/ipykernel_59314/2013956955.py:42: FutureWarning: Series.__getitem__ treating keys as positions is deprecated. In a future version, integer keys will always be treated as labels (consistent with DataFrame behavior). To access a value by position, use `ser.iloc[pos]`\n",
      "  return fast[-1] > slow[-1]\n"
     ]
    },
    {
     "name": "stdout",
     "output_type": "stream",
     "text": [
      "Fast 2748.8049166666665  /  Slow: 2745.7177500000003\n",
      "Position: 0 / Should Buy: True\n",
      "Symbol: ETH/USD / Side: BUY / Quantity: 1\n",
      "Sleep for 0\n",
      "********************\n"
     ]
    },
    {
     "name": "stderr",
     "output_type": "stream",
     "text": [
      "/var/folders/sn/wcs7_4d549z9dj_nct3c3y5m0000gn/T/ipykernel_59314/2013956955.py:41: FutureWarning: Series.__getitem__ treating keys as positions is deprecated. In a future version, integer keys will always be treated as labels (consistent with DataFrame behavior). To access a value by position, use `ser.iloc[pos]`\n",
      "  print(f\"Fast {fast[-1]}  /  Slow: {slow[-1]}\")\n",
      "/var/folders/sn/wcs7_4d549z9dj_nct3c3y5m0000gn/T/ipykernel_59314/2013956955.py:42: FutureWarning: Series.__getitem__ treating keys as positions is deprecated. In a future version, integer keys will always be treated as labels (consistent with DataFrame behavior). To access a value by position, use `ser.iloc[pos]`\n",
      "  return fast[-1] > slow[-1]\n"
     ]
    },
    {
     "name": "stdout",
     "output_type": "stream",
     "text": [
      "Fast 2748.8049166666665  /  Slow: 2745.7177500000003\n",
      "Position: 0 / Should Buy: True\n",
      "Symbol: ETH/USD / Side: BUY / Quantity: 1\n",
      "Sleep for 59\n",
      "********************\n"
     ]
    },
    {
     "name": "stderr",
     "output_type": "stream",
     "text": [
      "/var/folders/sn/wcs7_4d549z9dj_nct3c3y5m0000gn/T/ipykernel_59314/2013956955.py:41: FutureWarning: Series.__getitem__ treating keys as positions is deprecated. In a future version, integer keys will always be treated as labels (consistent with DataFrame behavior). To access a value by position, use `ser.iloc[pos]`\n",
      "  print(f\"Fast {fast[-1]}  /  Slow: {slow[-1]}\")\n",
      "/var/folders/sn/wcs7_4d549z9dj_nct3c3y5m0000gn/T/ipykernel_59314/2013956955.py:42: FutureWarning: Series.__getitem__ treating keys as positions is deprecated. In a future version, integer keys will always be treated as labels (consistent with DataFrame behavior). To access a value by position, use `ser.iloc[pos]`\n",
      "  return fast[-1] > slow[-1]\n"
     ]
    },
    {
     "name": "stdout",
     "output_type": "stream",
     "text": [
      "Fast 2748.9486666666667  /  Slow: 2745.789625\n",
      "Position: 0 / Should Buy: True\n",
      "Symbol: ETH/USD / Side: BUY / Quantity: 1\n",
      "Sleep for 0\n",
      "********************\n"
     ]
    },
    {
     "name": "stderr",
     "output_type": "stream",
     "text": [
      "/var/folders/sn/wcs7_4d549z9dj_nct3c3y5m0000gn/T/ipykernel_59314/2013956955.py:41: FutureWarning: Series.__getitem__ treating keys as positions is deprecated. In a future version, integer keys will always be treated as labels (consistent with DataFrame behavior). To access a value by position, use `ser.iloc[pos]`\n",
      "  print(f\"Fast {fast[-1]}  /  Slow: {slow[-1]}\")\n",
      "/var/folders/sn/wcs7_4d549z9dj_nct3c3y5m0000gn/T/ipykernel_59314/2013956955.py:42: FutureWarning: Series.__getitem__ treating keys as positions is deprecated. In a future version, integer keys will always be treated as labels (consistent with DataFrame behavior). To access a value by position, use `ser.iloc[pos]`\n",
      "  return fast[-1] > slow[-1]\n"
     ]
    },
    {
     "name": "stdout",
     "output_type": "stream",
     "text": [
      "Fast 2748.9486666666667  /  Slow: 2745.789625\n",
      "Position: 0 / Should Buy: True\n",
      "Symbol: ETH/USD / Side: BUY / Quantity: 1\n",
      "Sleep for 0\n",
      "********************\n"
     ]
    },
    {
     "name": "stderr",
     "output_type": "stream",
     "text": [
      "/var/folders/sn/wcs7_4d549z9dj_nct3c3y5m0000gn/T/ipykernel_59314/2013956955.py:41: FutureWarning: Series.__getitem__ treating keys as positions is deprecated. In a future version, integer keys will always be treated as labels (consistent with DataFrame behavior). To access a value by position, use `ser.iloc[pos]`\n",
      "  print(f\"Fast {fast[-1]}  /  Slow: {slow[-1]}\")\n",
      "/var/folders/sn/wcs7_4d549z9dj_nct3c3y5m0000gn/T/ipykernel_59314/2013956955.py:42: FutureWarning: Series.__getitem__ treating keys as positions is deprecated. In a future version, integer keys will always be treated as labels (consistent with DataFrame behavior). To access a value by position, use `ser.iloc[pos]`\n",
      "  return fast[-1] > slow[-1]\n"
     ]
    },
    {
     "name": "stdout",
     "output_type": "stream",
     "text": [
      "Fast 2748.9486666666667  /  Slow: 2745.789625\n",
      "Position: 0 / Should Buy: True\n",
      "Symbol: ETH/USD / Side: BUY / Quantity: 1\n",
      "Sleep for 59\n",
      "********************\n"
     ]
    },
    {
     "name": "stderr",
     "output_type": "stream",
     "text": [
      "/var/folders/sn/wcs7_4d549z9dj_nct3c3y5m0000gn/T/ipykernel_59314/2013956955.py:41: FutureWarning: Series.__getitem__ treating keys as positions is deprecated. In a future version, integer keys will always be treated as labels (consistent with DataFrame behavior). To access a value by position, use `ser.iloc[pos]`\n",
      "  print(f\"Fast {fast[-1]}  /  Slow: {slow[-1]}\")\n",
      "/var/folders/sn/wcs7_4d549z9dj_nct3c3y5m0000gn/T/ipykernel_59314/2013956955.py:42: FutureWarning: Series.__getitem__ treating keys as positions is deprecated. In a future version, integer keys will always be treated as labels (consistent with DataFrame behavior). To access a value by position, use `ser.iloc[pos]`\n",
      "  return fast[-1] > slow[-1]\n"
     ]
    },
    {
     "name": "stdout",
     "output_type": "stream",
     "text": [
      "Fast 2749.214583333333  /  Slow: 2746.077125\n",
      "Position: 0 / Should Buy: True\n",
      "Symbol: ETH/USD / Side: BUY / Quantity: 1\n",
      "Sleep for 0\n",
      "********************\n"
     ]
    },
    {
     "name": "stderr",
     "output_type": "stream",
     "text": [
      "/var/folders/sn/wcs7_4d549z9dj_nct3c3y5m0000gn/T/ipykernel_59314/2013956955.py:41: FutureWarning: Series.__getitem__ treating keys as positions is deprecated. In a future version, integer keys will always be treated as labels (consistent with DataFrame behavior). To access a value by position, use `ser.iloc[pos]`\n",
      "  print(f\"Fast {fast[-1]}  /  Slow: {slow[-1]}\")\n",
      "/var/folders/sn/wcs7_4d549z9dj_nct3c3y5m0000gn/T/ipykernel_59314/2013956955.py:42: FutureWarning: Series.__getitem__ treating keys as positions is deprecated. In a future version, integer keys will always be treated as labels (consistent with DataFrame behavior). To access a value by position, use `ser.iloc[pos]`\n",
      "  return fast[-1] > slow[-1]\n"
     ]
    },
    {
     "name": "stdout",
     "output_type": "stream",
     "text": [
      "Fast 2749.214583333333  /  Slow: 2746.077125\n",
      "Position: 0 / Should Buy: True\n",
      "Symbol: ETH/USD / Side: BUY / Quantity: 1\n",
      "Sleep for 59\n",
      "********************\n"
     ]
    },
    {
     "name": "stderr",
     "output_type": "stream",
     "text": [
      "/var/folders/sn/wcs7_4d549z9dj_nct3c3y5m0000gn/T/ipykernel_59314/2013956955.py:41: FutureWarning: Series.__getitem__ treating keys as positions is deprecated. In a future version, integer keys will always be treated as labels (consistent with DataFrame behavior). To access a value by position, use `ser.iloc[pos]`\n",
      "  print(f\"Fast {fast[-1]}  /  Slow: {slow[-1]}\")\n",
      "/var/folders/sn/wcs7_4d549z9dj_nct3c3y5m0000gn/T/ipykernel_59314/2013956955.py:42: FutureWarning: Series.__getitem__ treating keys as positions is deprecated. In a future version, integer keys will always be treated as labels (consistent with DataFrame behavior). To access a value by position, use `ser.iloc[pos]`\n",
      "  return fast[-1] > slow[-1]\n"
     ]
    },
    {
     "name": "stdout",
     "output_type": "stream",
     "text": [
      "Fast 2749.710958333333  /  Slow: 2746.4990208333334\n",
      "Position: 0 / Should Buy: True\n",
      "Symbol: ETH/USD / Side: BUY / Quantity: 1\n",
      "Sleep for 0\n",
      "********************\n"
     ]
    },
    {
     "name": "stderr",
     "output_type": "stream",
     "text": [
      "/var/folders/sn/wcs7_4d549z9dj_nct3c3y5m0000gn/T/ipykernel_59314/2013956955.py:41: FutureWarning: Series.__getitem__ treating keys as positions is deprecated. In a future version, integer keys will always be treated as labels (consistent with DataFrame behavior). To access a value by position, use `ser.iloc[pos]`\n",
      "  print(f\"Fast {fast[-1]}  /  Slow: {slow[-1]}\")\n",
      "/var/folders/sn/wcs7_4d549z9dj_nct3c3y5m0000gn/T/ipykernel_59314/2013956955.py:42: FutureWarning: Series.__getitem__ treating keys as positions is deprecated. In a future version, integer keys will always be treated as labels (consistent with DataFrame behavior). To access a value by position, use `ser.iloc[pos]`\n",
      "  return fast[-1] > slow[-1]\n"
     ]
    },
    {
     "name": "stdout",
     "output_type": "stream",
     "text": [
      "Fast 2749.710958333333  /  Slow: 2746.4990208333334\n",
      "Position: 0 / Should Buy: True\n",
      "Symbol: ETH/USD / Side: BUY / Quantity: 1\n",
      "Sleep for 0\n",
      "********************\n"
     ]
    },
    {
     "name": "stderr",
     "output_type": "stream",
     "text": [
      "/var/folders/sn/wcs7_4d549z9dj_nct3c3y5m0000gn/T/ipykernel_59314/2013956955.py:41: FutureWarning: Series.__getitem__ treating keys as positions is deprecated. In a future version, integer keys will always be treated as labels (consistent with DataFrame behavior). To access a value by position, use `ser.iloc[pos]`\n",
      "  print(f\"Fast {fast[-1]}  /  Slow: {slow[-1]}\")\n",
      "/var/folders/sn/wcs7_4d549z9dj_nct3c3y5m0000gn/T/ipykernel_59314/2013956955.py:42: FutureWarning: Series.__getitem__ treating keys as positions is deprecated. In a future version, integer keys will always be treated as labels (consistent with DataFrame behavior). To access a value by position, use `ser.iloc[pos]`\n",
      "  return fast[-1] > slow[-1]\n"
     ]
    },
    {
     "name": "stdout",
     "output_type": "stream",
     "text": [
      "Fast 2749.710958333333  /  Slow: 2746.4990208333334\n",
      "Position: 0 / Should Buy: True\n",
      "Symbol: ETH/USD / Side: BUY / Quantity: 1\n",
      "Sleep for 59\n",
      "********************\n"
     ]
    },
    {
     "name": "stderr",
     "output_type": "stream",
     "text": [
      "/var/folders/sn/wcs7_4d549z9dj_nct3c3y5m0000gn/T/ipykernel_59314/2013956955.py:41: FutureWarning: Series.__getitem__ treating keys as positions is deprecated. In a future version, integer keys will always be treated as labels (consistent with DataFrame behavior). To access a value by position, use `ser.iloc[pos]`\n",
      "  print(f\"Fast {fast[-1]}  /  Slow: {slow[-1]}\")\n",
      "/var/folders/sn/wcs7_4d549z9dj_nct3c3y5m0000gn/T/ipykernel_59314/2013956955.py:42: FutureWarning: Series.__getitem__ treating keys as positions is deprecated. In a future version, integer keys will always be treated as labels (consistent with DataFrame behavior). To access a value by position, use `ser.iloc[pos]`\n",
      "  return fast[-1] > slow[-1]\n"
     ]
    },
    {
     "name": "stdout",
     "output_type": "stream",
     "text": [
      "Fast 2749.710958333333  /  Slow: 2746.4990208333334\n",
      "Position: 0 / Should Buy: True\n",
      "Symbol: ETH/USD / Side: BUY / Quantity: 1\n",
      "Sleep for 0\n",
      "********************\n"
     ]
    },
    {
     "name": "stderr",
     "output_type": "stream",
     "text": [
      "/var/folders/sn/wcs7_4d549z9dj_nct3c3y5m0000gn/T/ipykernel_59314/2013956955.py:41: FutureWarning: Series.__getitem__ treating keys as positions is deprecated. In a future version, integer keys will always be treated as labels (consistent with DataFrame behavior). To access a value by position, use `ser.iloc[pos]`\n",
      "  print(f\"Fast {fast[-1]}  /  Slow: {slow[-1]}\")\n",
      "/var/folders/sn/wcs7_4d549z9dj_nct3c3y5m0000gn/T/ipykernel_59314/2013956955.py:42: FutureWarning: Series.__getitem__ treating keys as positions is deprecated. In a future version, integer keys will always be treated as labels (consistent with DataFrame behavior). To access a value by position, use `ser.iloc[pos]`\n",
      "  return fast[-1] > slow[-1]\n"
     ]
    },
    {
     "name": "stdout",
     "output_type": "stream",
     "text": [
      "Fast 2749.710958333333  /  Slow: 2746.4990208333334\n",
      "Position: 0 / Should Buy: True\n",
      "Symbol: ETH/USD / Side: BUY / Quantity: 1\n",
      "Sleep for 59\n",
      "********************\n"
     ]
    },
    {
     "name": "stderr",
     "output_type": "stream",
     "text": [
      "/var/folders/sn/wcs7_4d549z9dj_nct3c3y5m0000gn/T/ipykernel_59314/2013956955.py:41: FutureWarning: Series.__getitem__ treating keys as positions is deprecated. In a future version, integer keys will always be treated as labels (consistent with DataFrame behavior). To access a value by position, use `ser.iloc[pos]`\n",
      "  print(f\"Fast {fast[-1]}  /  Slow: {slow[-1]}\")\n",
      "/var/folders/sn/wcs7_4d549z9dj_nct3c3y5m0000gn/T/ipykernel_59314/2013956955.py:42: FutureWarning: Series.__getitem__ treating keys as positions is deprecated. In a future version, integer keys will always be treated as labels (consistent with DataFrame behavior). To access a value by position, use `ser.iloc[pos]`\n",
      "  return fast[-1] > slow[-1]\n"
     ]
    },
    {
     "name": "stdout",
     "output_type": "stream",
     "text": [
      "Fast 2750.2568333333334  /  Slow: 2747.0116875\n",
      "Position: 0 / Should Buy: True\n",
      "Symbol: ETH/USD / Side: BUY / Quantity: 1\n",
      "Sleep for 0\n",
      "********************\n"
     ]
    },
    {
     "name": "stderr",
     "output_type": "stream",
     "text": [
      "/var/folders/sn/wcs7_4d549z9dj_nct3c3y5m0000gn/T/ipykernel_59314/2013956955.py:41: FutureWarning: Series.__getitem__ treating keys as positions is deprecated. In a future version, integer keys will always be treated as labels (consistent with DataFrame behavior). To access a value by position, use `ser.iloc[pos]`\n",
      "  print(f\"Fast {fast[-1]}  /  Slow: {slow[-1]}\")\n",
      "/var/folders/sn/wcs7_4d549z9dj_nct3c3y5m0000gn/T/ipykernel_59314/2013956955.py:42: FutureWarning: Series.__getitem__ treating keys as positions is deprecated. In a future version, integer keys will always be treated as labels (consistent with DataFrame behavior). To access a value by position, use `ser.iloc[pos]`\n",
      "  return fast[-1] > slow[-1]\n"
     ]
    },
    {
     "name": "stdout",
     "output_type": "stream",
     "text": [
      "Fast 2750.2568333333334  /  Slow: 2747.0116875\n",
      "Position: 0 / Should Buy: True\n",
      "Symbol: ETH/USD / Side: BUY / Quantity: 1\n",
      "Sleep for 0\n",
      "********************\n"
     ]
    },
    {
     "name": "stderr",
     "output_type": "stream",
     "text": [
      "/var/folders/sn/wcs7_4d549z9dj_nct3c3y5m0000gn/T/ipykernel_59314/2013956955.py:41: FutureWarning: Series.__getitem__ treating keys as positions is deprecated. In a future version, integer keys will always be treated as labels (consistent with DataFrame behavior). To access a value by position, use `ser.iloc[pos]`\n",
      "  print(f\"Fast {fast[-1]}  /  Slow: {slow[-1]}\")\n",
      "/var/folders/sn/wcs7_4d549z9dj_nct3c3y5m0000gn/T/ipykernel_59314/2013956955.py:42: FutureWarning: Series.__getitem__ treating keys as positions is deprecated. In a future version, integer keys will always be treated as labels (consistent with DataFrame behavior). To access a value by position, use `ser.iloc[pos]`\n",
      "  return fast[-1] > slow[-1]\n"
     ]
    },
    {
     "name": "stdout",
     "output_type": "stream",
     "text": [
      "Fast 2750.2568333333334  /  Slow: 2747.0116875\n",
      "Position: 0 / Should Buy: True\n",
      "Symbol: ETH/USD / Side: BUY / Quantity: 1\n",
      "Sleep for 59\n",
      "********************\n"
     ]
    },
    {
     "name": "stderr",
     "output_type": "stream",
     "text": [
      "/var/folders/sn/wcs7_4d549z9dj_nct3c3y5m0000gn/T/ipykernel_59314/2013956955.py:41: FutureWarning: Series.__getitem__ treating keys as positions is deprecated. In a future version, integer keys will always be treated as labels (consistent with DataFrame behavior). To access a value by position, use `ser.iloc[pos]`\n",
      "  print(f\"Fast {fast[-1]}  /  Slow: {slow[-1]}\")\n",
      "/var/folders/sn/wcs7_4d549z9dj_nct3c3y5m0000gn/T/ipykernel_59314/2013956955.py:42: FutureWarning: Series.__getitem__ treating keys as positions is deprecated. In a future version, integer keys will always be treated as labels (consistent with DataFrame behavior). To access a value by position, use `ser.iloc[pos]`\n",
      "  return fast[-1] > slow[-1]\n"
     ]
    },
    {
     "name": "stdout",
     "output_type": "stream",
     "text": [
      "Fast 2750.2568333333334  /  Slow: 2747.0116875\n",
      "Position: 0 / Should Buy: True\n",
      "Symbol: ETH/USD / Side: BUY / Quantity: 1\n",
      "Sleep for 0\n",
      "********************\n"
     ]
    },
    {
     "name": "stderr",
     "output_type": "stream",
     "text": [
      "/var/folders/sn/wcs7_4d549z9dj_nct3c3y5m0000gn/T/ipykernel_59314/2013956955.py:41: FutureWarning: Series.__getitem__ treating keys as positions is deprecated. In a future version, integer keys will always be treated as labels (consistent with DataFrame behavior). To access a value by position, use `ser.iloc[pos]`\n",
      "  print(f\"Fast {fast[-1]}  /  Slow: {slow[-1]}\")\n",
      "/var/folders/sn/wcs7_4d549z9dj_nct3c3y5m0000gn/T/ipykernel_59314/2013956955.py:42: FutureWarning: Series.__getitem__ treating keys as positions is deprecated. In a future version, integer keys will always be treated as labels (consistent with DataFrame behavior). To access a value by position, use `ser.iloc[pos]`\n",
      "  return fast[-1] > slow[-1]\n"
     ]
    },
    {
     "name": "stdout",
     "output_type": "stream",
     "text": [
      "Fast 2750.2568333333334  /  Slow: 2747.0116875\n",
      "Position: 0 / Should Buy: True\n",
      "Symbol: ETH/USD / Side: BUY / Quantity: 1\n",
      "Sleep for 59\n",
      "********************\n"
     ]
    },
    {
     "name": "stderr",
     "output_type": "stream",
     "text": [
      "/var/folders/sn/wcs7_4d549z9dj_nct3c3y5m0000gn/T/ipykernel_59314/2013956955.py:41: FutureWarning: Series.__getitem__ treating keys as positions is deprecated. In a future version, integer keys will always be treated as labels (consistent with DataFrame behavior). To access a value by position, use `ser.iloc[pos]`\n",
      "  print(f\"Fast {fast[-1]}  /  Slow: {slow[-1]}\")\n",
      "/var/folders/sn/wcs7_4d549z9dj_nct3c3y5m0000gn/T/ipykernel_59314/2013956955.py:42: FutureWarning: Series.__getitem__ treating keys as positions is deprecated. In a future version, integer keys will always be treated as labels (consistent with DataFrame behavior). To access a value by position, use `ser.iloc[pos]`\n",
      "  return fast[-1] > slow[-1]\n"
     ]
    },
    {
     "name": "stdout",
     "output_type": "stream",
     "text": [
      "Fast 2750.8801666666664  /  Slow: 2747.672958333333\n",
      "Position: 0 / Should Buy: True\n",
      "Symbol: ETH/USD / Side: BUY / Quantity: 1\n",
      "Sleep for 0\n",
      "********************\n"
     ]
    },
    {
     "name": "stderr",
     "output_type": "stream",
     "text": [
      "/var/folders/sn/wcs7_4d549z9dj_nct3c3y5m0000gn/T/ipykernel_59314/2013956955.py:41: FutureWarning: Series.__getitem__ treating keys as positions is deprecated. In a future version, integer keys will always be treated as labels (consistent with DataFrame behavior). To access a value by position, use `ser.iloc[pos]`\n",
      "  print(f\"Fast {fast[-1]}  /  Slow: {slow[-1]}\")\n",
      "/var/folders/sn/wcs7_4d549z9dj_nct3c3y5m0000gn/T/ipykernel_59314/2013956955.py:42: FutureWarning: Series.__getitem__ treating keys as positions is deprecated. In a future version, integer keys will always be treated as labels (consistent with DataFrame behavior). To access a value by position, use `ser.iloc[pos]`\n",
      "  return fast[-1] > slow[-1]\n"
     ]
    },
    {
     "name": "stdout",
     "output_type": "stream",
     "text": [
      "Fast 2750.8801666666664  /  Slow: 2747.672958333333\n",
      "Position: 0 / Should Buy: True\n",
      "Symbol: ETH/USD / Side: BUY / Quantity: 1\n",
      "Sleep for 59\n",
      "********************\n"
     ]
    },
    {
     "name": "stderr",
     "output_type": "stream",
     "text": [
      "/var/folders/sn/wcs7_4d549z9dj_nct3c3y5m0000gn/T/ipykernel_59314/2013956955.py:41: FutureWarning: Series.__getitem__ treating keys as positions is deprecated. In a future version, integer keys will always be treated as labels (consistent with DataFrame behavior). To access a value by position, use `ser.iloc[pos]`\n",
      "  print(f\"Fast {fast[-1]}  /  Slow: {slow[-1]}\")\n",
      "/var/folders/sn/wcs7_4d549z9dj_nct3c3y5m0000gn/T/ipykernel_59314/2013956955.py:42: FutureWarning: Series.__getitem__ treating keys as positions is deprecated. In a future version, integer keys will always be treated as labels (consistent with DataFrame behavior). To access a value by position, use `ser.iloc[pos]`\n",
      "  return fast[-1] > slow[-1]\n"
     ]
    },
    {
     "name": "stdout",
     "output_type": "stream",
     "text": [
      "Fast 2751.5755833333333  /  Slow: 2748.297958333333\n",
      "Position: 0 / Should Buy: True\n",
      "Symbol: ETH/USD / Side: BUY / Quantity: 1\n",
      "Sleep for 0\n",
      "********************\n"
     ]
    },
    {
     "name": "stderr",
     "output_type": "stream",
     "text": [
      "/var/folders/sn/wcs7_4d549z9dj_nct3c3y5m0000gn/T/ipykernel_59314/2013956955.py:41: FutureWarning: Series.__getitem__ treating keys as positions is deprecated. In a future version, integer keys will always be treated as labels (consistent with DataFrame behavior). To access a value by position, use `ser.iloc[pos]`\n",
      "  print(f\"Fast {fast[-1]}  /  Slow: {slow[-1]}\")\n",
      "/var/folders/sn/wcs7_4d549z9dj_nct3c3y5m0000gn/T/ipykernel_59314/2013956955.py:42: FutureWarning: Series.__getitem__ treating keys as positions is deprecated. In a future version, integer keys will always be treated as labels (consistent with DataFrame behavior). To access a value by position, use `ser.iloc[pos]`\n",
      "  return fast[-1] > slow[-1]\n"
     ]
    },
    {
     "name": "stdout",
     "output_type": "stream",
     "text": [
      "Fast 2751.5755833333333  /  Slow: 2748.297958333333\n",
      "Position: 0 / Should Buy: True\n",
      "Symbol: ETH/USD / Side: BUY / Quantity: 1\n",
      "Sleep for 0\n",
      "********************\n"
     ]
    },
    {
     "name": "stderr",
     "output_type": "stream",
     "text": [
      "/var/folders/sn/wcs7_4d549z9dj_nct3c3y5m0000gn/T/ipykernel_59314/2013956955.py:41: FutureWarning: Series.__getitem__ treating keys as positions is deprecated. In a future version, integer keys will always be treated as labels (consistent with DataFrame behavior). To access a value by position, use `ser.iloc[pos]`\n",
      "  print(f\"Fast {fast[-1]}  /  Slow: {slow[-1]}\")\n",
      "/var/folders/sn/wcs7_4d549z9dj_nct3c3y5m0000gn/T/ipykernel_59314/2013956955.py:42: FutureWarning: Series.__getitem__ treating keys as positions is deprecated. In a future version, integer keys will always be treated as labels (consistent with DataFrame behavior). To access a value by position, use `ser.iloc[pos]`\n",
      "  return fast[-1] > slow[-1]\n"
     ]
    },
    {
     "name": "stdout",
     "output_type": "stream",
     "text": [
      "Fast 2751.5755833333333  /  Slow: 2748.297958333333\n",
      "Position: 0 / Should Buy: True\n",
      "Symbol: ETH/USD / Side: BUY / Quantity: 1\n",
      "Sleep for 59\n",
      "********************\n"
     ]
    },
    {
     "name": "stderr",
     "output_type": "stream",
     "text": [
      "/var/folders/sn/wcs7_4d549z9dj_nct3c3y5m0000gn/T/ipykernel_59314/2013956955.py:41: FutureWarning: Series.__getitem__ treating keys as positions is deprecated. In a future version, integer keys will always be treated as labels (consistent with DataFrame behavior). To access a value by position, use `ser.iloc[pos]`\n",
      "  print(f\"Fast {fast[-1]}  /  Slow: {slow[-1]}\")\n",
      "/var/folders/sn/wcs7_4d549z9dj_nct3c3y5m0000gn/T/ipykernel_59314/2013956955.py:42: FutureWarning: Series.__getitem__ treating keys as positions is deprecated. In a future version, integer keys will always be treated as labels (consistent with DataFrame behavior). To access a value by position, use `ser.iloc[pos]`\n",
      "  return fast[-1] > slow[-1]\n"
     ]
    },
    {
     "name": "stdout",
     "output_type": "stream",
     "text": [
      "Fast 2752.69475  /  Slow: 2749.2575833333335\n",
      "Position: 0 / Should Buy: True\n",
      "Symbol: ETH/USD / Side: BUY / Quantity: 1\n",
      "Sleep for 0\n",
      "********************\n"
     ]
    },
    {
     "name": "stderr",
     "output_type": "stream",
     "text": [
      "/var/folders/sn/wcs7_4d549z9dj_nct3c3y5m0000gn/T/ipykernel_59314/2013956955.py:41: FutureWarning: Series.__getitem__ treating keys as positions is deprecated. In a future version, integer keys will always be treated as labels (consistent with DataFrame behavior). To access a value by position, use `ser.iloc[pos]`\n",
      "  print(f\"Fast {fast[-1]}  /  Slow: {slow[-1]}\")\n",
      "/var/folders/sn/wcs7_4d549z9dj_nct3c3y5m0000gn/T/ipykernel_59314/2013956955.py:42: FutureWarning: Series.__getitem__ treating keys as positions is deprecated. In a future version, integer keys will always be treated as labels (consistent with DataFrame behavior). To access a value by position, use `ser.iloc[pos]`\n",
      "  return fast[-1] > slow[-1]\n"
     ]
    },
    {
     "name": "stdout",
     "output_type": "stream",
     "text": [
      "Fast 2752.69475  /  Slow: 2749.2575833333335\n",
      "Position: 0 / Should Buy: True\n",
      "Symbol: ETH/USD / Side: BUY / Quantity: 1\n",
      "Sleep for 59\n",
      "********************\n"
     ]
    },
    {
     "name": "stderr",
     "output_type": "stream",
     "text": [
      "/var/folders/sn/wcs7_4d549z9dj_nct3c3y5m0000gn/T/ipykernel_59314/2013956955.py:41: FutureWarning: Series.__getitem__ treating keys as positions is deprecated. In a future version, integer keys will always be treated as labels (consistent with DataFrame behavior). To access a value by position, use `ser.iloc[pos]`\n",
      "  print(f\"Fast {fast[-1]}  /  Slow: {slow[-1]}\")\n",
      "/var/folders/sn/wcs7_4d549z9dj_nct3c3y5m0000gn/T/ipykernel_59314/2013956955.py:42: FutureWarning: Series.__getitem__ treating keys as positions is deprecated. In a future version, integer keys will always be treated as labels (consistent with DataFrame behavior). To access a value by position, use `ser.iloc[pos]`\n",
      "  return fast[-1] > slow[-1]\n"
     ]
    },
    {
     "name": "stdout",
     "output_type": "stream",
     "text": [
      "Fast 2753.677  /  Slow: 2749.9753333333333\n",
      "Position: 0 / Should Buy: True\n",
      "Symbol: ETH/USD / Side: BUY / Quantity: 1\n",
      "Sleep for 0\n",
      "********************\n"
     ]
    },
    {
     "name": "stderr",
     "output_type": "stream",
     "text": [
      "/var/folders/sn/wcs7_4d549z9dj_nct3c3y5m0000gn/T/ipykernel_59314/2013956955.py:41: FutureWarning: Series.__getitem__ treating keys as positions is deprecated. In a future version, integer keys will always be treated as labels (consistent with DataFrame behavior). To access a value by position, use `ser.iloc[pos]`\n",
      "  print(f\"Fast {fast[-1]}  /  Slow: {slow[-1]}\")\n",
      "/var/folders/sn/wcs7_4d549z9dj_nct3c3y5m0000gn/T/ipykernel_59314/2013956955.py:42: FutureWarning: Series.__getitem__ treating keys as positions is deprecated. In a future version, integer keys will always be treated as labels (consistent with DataFrame behavior). To access a value by position, use `ser.iloc[pos]`\n",
      "  return fast[-1] > slow[-1]\n"
     ]
    },
    {
     "name": "stdout",
     "output_type": "stream",
     "text": [
      "Fast 2753.677  /  Slow: 2749.9753333333333\n",
      "Position: 0 / Should Buy: True\n",
      "Symbol: ETH/USD / Side: BUY / Quantity: 1\n",
      "Sleep for 0\n",
      "********************\n"
     ]
    },
    {
     "name": "stderr",
     "output_type": "stream",
     "text": [
      "/var/folders/sn/wcs7_4d549z9dj_nct3c3y5m0000gn/T/ipykernel_59314/2013956955.py:41: FutureWarning: Series.__getitem__ treating keys as positions is deprecated. In a future version, integer keys will always be treated as labels (consistent with DataFrame behavior). To access a value by position, use `ser.iloc[pos]`\n",
      "  print(f\"Fast {fast[-1]}  /  Slow: {slow[-1]}\")\n",
      "/var/folders/sn/wcs7_4d549z9dj_nct3c3y5m0000gn/T/ipykernel_59314/2013956955.py:42: FutureWarning: Series.__getitem__ treating keys as positions is deprecated. In a future version, integer keys will always be treated as labels (consistent with DataFrame behavior). To access a value by position, use `ser.iloc[pos]`\n",
      "  return fast[-1] > slow[-1]\n"
     ]
    },
    {
     "name": "stdout",
     "output_type": "stream",
     "text": [
      "Fast 2753.677  /  Slow: 2749.9753333333333\n",
      "Position: 0 / Should Buy: True\n",
      "Symbol: ETH/USD / Side: BUY / Quantity: 1\n",
      "Sleep for 59\n",
      "********************\n"
     ]
    },
    {
     "name": "stderr",
     "output_type": "stream",
     "text": [
      "/var/folders/sn/wcs7_4d549z9dj_nct3c3y5m0000gn/T/ipykernel_59314/2013956955.py:41: FutureWarning: Series.__getitem__ treating keys as positions is deprecated. In a future version, integer keys will always be treated as labels (consistent with DataFrame behavior). To access a value by position, use `ser.iloc[pos]`\n",
      "  print(f\"Fast {fast[-1]}  /  Slow: {slow[-1]}\")\n",
      "/var/folders/sn/wcs7_4d549z9dj_nct3c3y5m0000gn/T/ipykernel_59314/2013956955.py:42: FutureWarning: Series.__getitem__ treating keys as positions is deprecated. In a future version, integer keys will always be treated as labels (consistent with DataFrame behavior). To access a value by position, use `ser.iloc[pos]`\n",
      "  return fast[-1] > slow[-1]\n"
     ]
    },
    {
     "name": "stdout",
     "output_type": "stream",
     "text": [
      "Fast 2754.61725  /  Slow: 2750.7147499999996\n",
      "Position: 0 / Should Buy: True\n",
      "Symbol: ETH/USD / Side: BUY / Quantity: 1\n",
      "Sleep for 0\n",
      "********************\n",
      "Fast 2754.61725  /  Slow: 2750.7147499999996\n",
      "Position: 0 / Should Buy: True\n"
     ]
    },
    {
     "name": "stderr",
     "output_type": "stream",
     "text": [
      "/var/folders/sn/wcs7_4d549z9dj_nct3c3y5m0000gn/T/ipykernel_59314/2013956955.py:41: FutureWarning: Series.__getitem__ treating keys as positions is deprecated. In a future version, integer keys will always be treated as labels (consistent with DataFrame behavior). To access a value by position, use `ser.iloc[pos]`\n",
      "  print(f\"Fast {fast[-1]}  /  Slow: {slow[-1]}\")\n",
      "/var/folders/sn/wcs7_4d549z9dj_nct3c3y5m0000gn/T/ipykernel_59314/2013956955.py:42: FutureWarning: Series.__getitem__ treating keys as positions is deprecated. In a future version, integer keys will always be treated as labels (consistent with DataFrame behavior). To access a value by position, use `ser.iloc[pos]`\n",
      "  return fast[-1] > slow[-1]\n"
     ]
    },
    {
     "ename": "APIError",
     "evalue": "insufficient balance for USD (requested: 2814.38, available: 816.55)",
     "output_type": "error",
     "traceback": [
      "\u001b[0;31m---------------------------------------------------------------------------\u001b[0m",
      "\u001b[0;31mAPIError\u001b[0m                                  Traceback (most recent call last)",
      "Cell \u001b[0;32mIn[34], line 60\u001b[0m\n\u001b[1;32m     57\u001b[0m \u001b[38;5;28mprint\u001b[39m(\u001b[38;5;124mf\u001b[39m\u001b[38;5;124m\"\u001b[39m\u001b[38;5;124mPosition: \u001b[39m\u001b[38;5;132;01m{\u001b[39;00mposition\u001b[38;5;132;01m}\u001b[39;00m\u001b[38;5;124m / Should Buy: \u001b[39m\u001b[38;5;132;01m{\u001b[39;00mshould_buy\u001b[38;5;132;01m}\u001b[39;00m\u001b[38;5;124m\"\u001b[39m)\n\u001b[1;32m     58\u001b[0m \u001b[38;5;28;01mif\u001b[39;00m position \u001b[38;5;241m==\u001b[39m \u001b[38;5;241m0\u001b[39m \u001b[38;5;129;01mand\u001b[39;00m should_buy \u001b[38;5;241m==\u001b[39m \u001b[38;5;28;01mTrue\u001b[39;00m:\n\u001b[1;32m     59\u001b[0m     \u001b[38;5;66;03m# WE BUY ONE BITCOIN\u001b[39;00m\n\u001b[0;32m---> 60\u001b[0m     \u001b[43mapi\u001b[49m\u001b[38;5;241;43m.\u001b[39;49m\u001b[43msubmit_order\u001b[49m\u001b[43m(\u001b[49m\u001b[43mSYMBOL\u001b[49m\u001b[43m,\u001b[49m\u001b[43m \u001b[49m\u001b[43mqty\u001b[49m\u001b[38;5;241;43m=\u001b[39;49m\u001b[43mQTY_PER_TRADE\u001b[49m\u001b[43m,\u001b[49m\u001b[43m \u001b[49m\u001b[43mside\u001b[49m\u001b[38;5;241;43m=\u001b[39;49m\u001b[38;5;124;43m'\u001b[39;49m\u001b[38;5;124;43mbuy\u001b[39;49m\u001b[38;5;124;43m'\u001b[39;49m\u001b[43m,\u001b[49m\u001b[43m \u001b[49m\u001b[43mtime_in_force\u001b[49m\u001b[38;5;241;43m=\u001b[39;49m\u001b[38;5;124;43m\"\u001b[39;49m\u001b[38;5;124;43mgtc\u001b[39;49m\u001b[38;5;124;43m\"\u001b[39;49m\u001b[43m)\u001b[49m\n\u001b[1;32m     61\u001b[0m     \u001b[38;5;28mprint\u001b[39m(\u001b[38;5;124mf\u001b[39m\u001b[38;5;124m'\u001b[39m\u001b[38;5;124mSymbol: \u001b[39m\u001b[38;5;132;01m{\u001b[39;00mSYMBOL\u001b[38;5;132;01m}\u001b[39;00m\u001b[38;5;124m / Side: BUY / Quantity: \u001b[39m\u001b[38;5;132;01m{\u001b[39;00mQTY_PER_TRADE\u001b[38;5;132;01m}\u001b[39;00m\u001b[38;5;124m'\u001b[39m)\n\u001b[1;32m     62\u001b[0m \u001b[38;5;28;01melif\u001b[39;00m position \u001b[38;5;241m>\u001b[39m \u001b[38;5;241m0\u001b[39m \u001b[38;5;129;01mand\u001b[39;00m should_buy \u001b[38;5;241m==\u001b[39m \u001b[38;5;28;01mFalse\u001b[39;00m:\n\u001b[1;32m     63\u001b[0m     \u001b[38;5;66;03m# WE SELL ONE BITCOIN\u001b[39;00m\n",
      "File \u001b[0;32m~/Library/Python/3.9/lib/python/site-packages/alpaca_trade_api/rest.py:433\u001b[0m, in \u001b[0;36mREST.submit_order\u001b[0;34m(self, symbol, qty, side, type, time_in_force, limit_price, stop_price, client_order_id, extended_hours, order_class, take_profit, stop_loss, trail_price, trail_percent, notional)\u001b[0m\n\u001b[1;32m    431\u001b[0m \u001b[38;5;28;01mif\u001b[39;00m trail_percent \u001b[38;5;129;01mis\u001b[39;00m \u001b[38;5;129;01mnot\u001b[39;00m \u001b[38;5;28;01mNone\u001b[39;00m:\n\u001b[1;32m    432\u001b[0m     params[\u001b[38;5;124m'\u001b[39m\u001b[38;5;124mtrail_percent\u001b[39m\u001b[38;5;124m'\u001b[39m] \u001b[38;5;241m=\u001b[39m trail_percent\n\u001b[0;32m--> 433\u001b[0m resp \u001b[38;5;241m=\u001b[39m \u001b[38;5;28;43mself\u001b[39;49m\u001b[38;5;241;43m.\u001b[39;49m\u001b[43mpost\u001b[49m\u001b[43m(\u001b[49m\u001b[38;5;124;43m'\u001b[39;49m\u001b[38;5;124;43m/orders\u001b[39;49m\u001b[38;5;124;43m'\u001b[39;49m\u001b[43m,\u001b[49m\u001b[43m \u001b[49m\u001b[43mparams\u001b[49m\u001b[43m)\u001b[49m\n\u001b[1;32m    434\u001b[0m \u001b[38;5;28;01mreturn\u001b[39;00m \u001b[38;5;28mself\u001b[39m\u001b[38;5;241m.\u001b[39mresponse_wrapper(resp, Order)\n",
      "File \u001b[0;32m~/Library/Python/3.9/lib/python/site-packages/alpaca_trade_api/rest.py:257\u001b[0m, in \u001b[0;36mREST.post\u001b[0;34m(self, path, data)\u001b[0m\n\u001b[1;32m    256\u001b[0m \u001b[38;5;28;01mdef\u001b[39;00m \u001b[38;5;21mpost\u001b[39m(\u001b[38;5;28mself\u001b[39m, path, data\u001b[38;5;241m=\u001b[39m\u001b[38;5;28;01mNone\u001b[39;00m):\n\u001b[0;32m--> 257\u001b[0m     \u001b[38;5;28;01mreturn\u001b[39;00m \u001b[38;5;28;43mself\u001b[39;49m\u001b[38;5;241;43m.\u001b[39;49m\u001b[43m_request\u001b[49m\u001b[43m(\u001b[49m\u001b[38;5;124;43m'\u001b[39;49m\u001b[38;5;124;43mPOST\u001b[39;49m\u001b[38;5;124;43m'\u001b[39;49m\u001b[43m,\u001b[49m\u001b[43m \u001b[49m\u001b[43mpath\u001b[49m\u001b[43m,\u001b[49m\u001b[43m \u001b[49m\u001b[43mdata\u001b[49m\u001b[43m)\u001b[49m\n",
      "File \u001b[0;32m~/Library/Python/3.9/lib/python/site-packages/alpaca_trade_api/rest.py:222\u001b[0m, in \u001b[0;36mREST._request\u001b[0;34m(self, method, path, data, base_url, api_version)\u001b[0m\n\u001b[1;32m    220\u001b[0m \u001b[38;5;28;01mwhile\u001b[39;00m retry \u001b[38;5;241m>\u001b[39m\u001b[38;5;241m=\u001b[39m \u001b[38;5;241m0\u001b[39m:\n\u001b[1;32m    221\u001b[0m     \u001b[38;5;28;01mtry\u001b[39;00m:\n\u001b[0;32m--> 222\u001b[0m         \u001b[38;5;28;01mreturn\u001b[39;00m \u001b[38;5;28;43mself\u001b[39;49m\u001b[38;5;241;43m.\u001b[39;49m\u001b[43m_one_request\u001b[49m\u001b[43m(\u001b[49m\u001b[43mmethod\u001b[49m\u001b[43m,\u001b[49m\u001b[43m \u001b[49m\u001b[43murl\u001b[49m\u001b[43m,\u001b[49m\u001b[43m \u001b[49m\u001b[43mopts\u001b[49m\u001b[43m,\u001b[49m\u001b[43m \u001b[49m\u001b[43mretry\u001b[49m\u001b[43m)\u001b[49m\n\u001b[1;32m    223\u001b[0m     \u001b[38;5;28;01mexcept\u001b[39;00m RetryException:\n\u001b[1;32m    224\u001b[0m         retry_wait \u001b[38;5;241m=\u001b[39m \u001b[38;5;28mself\u001b[39m\u001b[38;5;241m.\u001b[39m_retry_wait\n",
      "File \u001b[0;32m~/Library/Python/3.9/lib/python/site-packages/alpaca_trade_api/rest.py:248\u001b[0m, in \u001b[0;36mREST._one_request\u001b[0;34m(self, method, url, opts, retry)\u001b[0m\n\u001b[1;32m    246\u001b[0m     \u001b[38;5;28;01mif\u001b[39;00m resp\u001b[38;5;241m.\u001b[39mstatus_code \u001b[38;5;129;01min\u001b[39;00m retry_codes \u001b[38;5;129;01mand\u001b[39;00m retry \u001b[38;5;241m>\u001b[39m \u001b[38;5;241m0\u001b[39m:\n\u001b[1;32m    247\u001b[0m         \u001b[38;5;28;01mraise\u001b[39;00m RetryException()\n\u001b[0;32m--> 248\u001b[0m     \u001b[43mraise_api_error\u001b[49m\u001b[43m(\u001b[49m\u001b[43mresp\u001b[49m\u001b[43m,\u001b[49m\u001b[43m \u001b[49m\u001b[43mhttp_error\u001b[49m\u001b[43m)\u001b[49m\n\u001b[1;32m    249\u001b[0m \u001b[38;5;28;01mif\u001b[39;00m resp\u001b[38;5;241m.\u001b[39mtext \u001b[38;5;241m!=\u001b[39m \u001b[38;5;124m'\u001b[39m\u001b[38;5;124m'\u001b[39m:\n\u001b[1;32m    250\u001b[0m     \u001b[38;5;28;01mreturn\u001b[39;00m resp\u001b[38;5;241m.\u001b[39mjson()\n",
      "File \u001b[0;32m~/Library/Python/3.9/lib/python/site-packages/alpaca_trade_api/rest.py:83\u001b[0m, in \u001b[0;36mraise_api_error\u001b[0;34m(resp, http_error)\u001b[0m\n\u001b[1;32m     81\u001b[0m     \u001b[38;5;28;01mraise\u001b[39;00m http_error \u001b[38;5;28;01mfrom\u001b[39;00m \u001b[38;5;28;01mNone\u001b[39;00m\n\u001b[1;32m     82\u001b[0m \u001b[38;5;28;01mif\u001b[39;00m \u001b[38;5;124m'\u001b[39m\u001b[38;5;124mmessage\u001b[39m\u001b[38;5;124m'\u001b[39m \u001b[38;5;129;01min\u001b[39;00m error:\n\u001b[0;32m---> 83\u001b[0m     \u001b[38;5;28;01mraise\u001b[39;00m APIError(error, http_error) \u001b[38;5;28;01mfrom\u001b[39;00m \u001b[38;5;28;01mNone\u001b[39;00m\n\u001b[1;32m     84\u001b[0m \u001b[38;5;28;01mraise\u001b[39;00m http_error \u001b[38;5;28;01mfrom\u001b[39;00m \u001b[38;5;28;01mNone\u001b[39;00m\n",
      "\u001b[0;31mAPIError\u001b[0m: insufficient balance for USD (requested: 2814.38, available: 816.55)"
     ]
    }
   ],
   "source": [
    "from datetime import datetime, timedelta\n",
    "import math\n",
    "import time\n",
    "\n",
    "def get_position(symbol):\n",
    "    positions = api.list_positions()\n",
    "    for p in positions:\n",
    "        if p.symbol == symbol:\n",
    "            return float(p.qty)\n",
    "    return 0\n",
    "\n",
    "SYMBOL = 'ETH/USD'\n",
    "SMA_FAST = 12\n",
    "SMA_SLOW = 24\n",
    "QTY_PER_TRADE = 1\n",
    "\n",
    "\n",
    "\n",
    "def get_pause():\n",
    "    now = datetime.now()\n",
    "    next_min = now.replace(second=0, microsecond=0) + timedelta(minutes=1)\n",
    "    pause = math.ceil((next_min - now).seconds)\n",
    "    print(f\"Sleep for {pause}\")\n",
    "    return pause\n",
    "\n",
    "\n",
    "def get_position(symbol):\n",
    "    positions = api.list_positions()\n",
    "    for p in positions:\n",
    "        if p.symbol == symbol:\n",
    "            return float(p.qty)\n",
    "    return 0\n",
    "\n",
    "\n",
    "# Returns a series with the moving average\n",
    "def get_sma(series, periods):\n",
    "    return series.rolling(periods).mean()\n",
    "\n",
    "# Checks wether we should buy (fast ma > slow ma)\n",
    "def get_signal(fast, slow):\n",
    "    print(f\"Fast {fast[-1]}  /  Slow: {slow[-1]}\")\n",
    "    return fast[-1] > slow[-1]\n",
    "\n",
    "# Get up-to-date 1 minute data from Alpaca and add the moving averages\n",
    "def get_bars(symbol):\n",
    "    bars = api.get_crypto_bars(symbol, TimeFrame.Minute).df\n",
    "    bars[f'sma_fast'] = get_sma(bars.close, SMA_FAST)\n",
    "    bars[f'sma_slow'] = get_sma(bars.close, SMA_SLOW)\n",
    "    return bars\n",
    "\n",
    "while True:\n",
    "    # GET DATA\n",
    "    bars = get_bars(symbol=SYMBOL)\n",
    "    # CHECK POSITIONS\n",
    "    position = get_position(symbol=SYMBOL)\n",
    "    should_buy = get_signal(bars.sma_fast,bars.sma_slow)\n",
    "    print(f\"Position: {position} / Should Buy: {should_buy}\")\n",
    "    if position == 0 and should_buy == True:\n",
    "        # WE BUY ONE BITCOIN\n",
    "        api.submit_order(SYMBOL, qty=QTY_PER_TRADE, side='buy', time_in_force=\"gtc\")\n",
    "        print(f'Symbol: {SYMBOL} / Side: BUY / Quantity: {QTY_PER_TRADE}')\n",
    "    elif position > 0 and should_buy == False:\n",
    "        # WE SELL ONE BITCOIN\n",
    "        api.submit_order(SYMBOL, qty=QTY_PER_TRADE, side='sell')\n",
    "        print(f'Symbol: {SYMBOL} / Side: SELL / Quantity: {QTY_PER_TRADE}')\n",
    "\n",
    "    time.sleep(get_pause())\n",
    "    print(\"*\"*20)"
   ]
  }
 ],
 "metadata": {
  "kernelspec": {
   "display_name": "Python 3",
   "language": "python",
   "name": "python3"
  },
  "language_info": {
   "codemirror_mode": {
    "name": "ipython",
    "version": 3
   },
   "file_extension": ".py",
   "mimetype": "text/x-python",
   "name": "python",
   "nbconvert_exporter": "python",
   "pygments_lexer": "ipython3",
   "version": "3.9.6"
  }
 },
 "nbformat": 4,
 "nbformat_minor": 2
}
